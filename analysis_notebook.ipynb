{
 "cells": [
  {
   "cell_type": "markdown",
   "metadata": {},
   "source": [
    "## Final Project Submission\n",
    "\n",
    "Please fill out:\n",
    "* Student name: \n",
    "* Student pace: self paced / part time / full time\n",
    "* Scheduled project review date/time: \n",
    "* Instructor name: \n",
    "* Blog post URL:"
   ]
  },
  {
   "cell_type": "markdown",
   "metadata": {},
   "source": [
    "# Aviation Accident Data Analysis"
   ]
  },
  {
   "cell_type": "markdown",
   "metadata": {},
   "source": [
    "pic"
   ]
  },
  {
   "cell_type": "markdown",
   "metadata": {},
   "source": [
    "## Overview"
   ]
  },
  {
   "cell_type": "markdown",
   "metadata": {},
   "source": [
    "overview of the dataset"
   ]
  },
  {
   "cell_type": "markdown",
   "metadata": {},
   "source": [
    "## Business Problem"
   ]
  },
  {
   "cell_type": "markdown",
   "metadata": {},
   "source": [
    "description of bus prob"
   ]
  },
  {
   "cell_type": "markdown",
   "metadata": {},
   "source": [
    "## Data Understanding"
   ]
  },
  {
   "cell_type": "markdown",
   "metadata": {},
   "source": [
    "short descrip"
   ]
  },
  {
   "cell_type": "code",
   "execution_count": 945,
   "metadata": {},
   "outputs": [],
   "source": [
    "import pandas as pd\n",
    "import numpy as np\n",
    "import matplotlib.pyplot as plt\n",
    "import seaborn as sns\n",
    "import matplotlib.patches as mpatches\n",
    "pd.options.mode.chained_assignment = None"
   ]
  },
  {
   "cell_type": "code",
   "execution_count": 946,
   "metadata": {},
   "outputs": [
    {
     "name": "stderr",
     "output_type": "stream",
     "text": [
      "/Users/jacklocke/anaconda3/envs/learn-env/lib/python3.8/site-packages/IPython/core/interactiveshell.py:3145: DtypeWarning: Columns (6,7,28) have mixed types.Specify dtype option on import or set low_memory=False.\n",
      "  has_raised = await self.run_ast_nodes(code_ast.body, cell_name,\n"
     ]
    }
   ],
   "source": [
    "df = pd.read_csv('data/aviation_data.csv')"
   ]
  },
  {
   "cell_type": "code",
   "execution_count": 947,
   "metadata": {
    "scrolled": false
   },
   "outputs": [
    {
     "data": {
      "text/html": [
       "<div>\n",
       "<style scoped>\n",
       "    .dataframe tbody tr th:only-of-type {\n",
       "        vertical-align: middle;\n",
       "    }\n",
       "\n",
       "    .dataframe tbody tr th {\n",
       "        vertical-align: top;\n",
       "    }\n",
       "\n",
       "    .dataframe thead th {\n",
       "        text-align: right;\n",
       "    }\n",
       "</style>\n",
       "<table border=\"1\" class=\"dataframe\">\n",
       "  <thead>\n",
       "    <tr style=\"text-align: right;\">\n",
       "      <th></th>\n",
       "      <th>Event.Id</th>\n",
       "      <th>Investigation.Type</th>\n",
       "      <th>Accident.Number</th>\n",
       "      <th>Event.Date</th>\n",
       "      <th>Location</th>\n",
       "      <th>Country</th>\n",
       "      <th>Latitude</th>\n",
       "      <th>Longitude</th>\n",
       "      <th>Airport.Code</th>\n",
       "      <th>Airport.Name</th>\n",
       "      <th>...</th>\n",
       "      <th>Purpose.of.flight</th>\n",
       "      <th>Air.carrier</th>\n",
       "      <th>Total.Fatal.Injuries</th>\n",
       "      <th>Total.Serious.Injuries</th>\n",
       "      <th>Total.Minor.Injuries</th>\n",
       "      <th>Total.Uninjured</th>\n",
       "      <th>Weather.Condition</th>\n",
       "      <th>Broad.phase.of.flight</th>\n",
       "      <th>Report.Status</th>\n",
       "      <th>Publication.Date</th>\n",
       "    </tr>\n",
       "  </thead>\n",
       "  <tbody>\n",
       "    <tr>\n",
       "      <th>0</th>\n",
       "      <td>20001218X45444</td>\n",
       "      <td>Accident</td>\n",
       "      <td>SEA87LA080</td>\n",
       "      <td>1948-10-24</td>\n",
       "      <td>MOOSE CREEK, ID</td>\n",
       "      <td>United States</td>\n",
       "      <td>NaN</td>\n",
       "      <td>NaN</td>\n",
       "      <td>NaN</td>\n",
       "      <td>NaN</td>\n",
       "      <td>...</td>\n",
       "      <td>Personal</td>\n",
       "      <td>NaN</td>\n",
       "      <td>2.0</td>\n",
       "      <td>0.0</td>\n",
       "      <td>0.0</td>\n",
       "      <td>0.0</td>\n",
       "      <td>UNK</td>\n",
       "      <td>Cruise</td>\n",
       "      <td>Probable Cause</td>\n",
       "      <td>NaN</td>\n",
       "    </tr>\n",
       "    <tr>\n",
       "      <th>1</th>\n",
       "      <td>20001218X45447</td>\n",
       "      <td>Accident</td>\n",
       "      <td>LAX94LA336</td>\n",
       "      <td>1962-07-19</td>\n",
       "      <td>BRIDGEPORT, CA</td>\n",
       "      <td>United States</td>\n",
       "      <td>NaN</td>\n",
       "      <td>NaN</td>\n",
       "      <td>NaN</td>\n",
       "      <td>NaN</td>\n",
       "      <td>...</td>\n",
       "      <td>Personal</td>\n",
       "      <td>NaN</td>\n",
       "      <td>4.0</td>\n",
       "      <td>0.0</td>\n",
       "      <td>0.0</td>\n",
       "      <td>0.0</td>\n",
       "      <td>UNK</td>\n",
       "      <td>Unknown</td>\n",
       "      <td>Probable Cause</td>\n",
       "      <td>19-09-1996</td>\n",
       "    </tr>\n",
       "    <tr>\n",
       "      <th>2</th>\n",
       "      <td>20061025X01555</td>\n",
       "      <td>Accident</td>\n",
       "      <td>NYC07LA005</td>\n",
       "      <td>1974-08-30</td>\n",
       "      <td>Saltville, VA</td>\n",
       "      <td>United States</td>\n",
       "      <td>36.9222</td>\n",
       "      <td>-81.8781</td>\n",
       "      <td>NaN</td>\n",
       "      <td>NaN</td>\n",
       "      <td>...</td>\n",
       "      <td>Personal</td>\n",
       "      <td>NaN</td>\n",
       "      <td>3.0</td>\n",
       "      <td>NaN</td>\n",
       "      <td>NaN</td>\n",
       "      <td>NaN</td>\n",
       "      <td>IMC</td>\n",
       "      <td>Cruise</td>\n",
       "      <td>Probable Cause</td>\n",
       "      <td>26-02-2007</td>\n",
       "    </tr>\n",
       "    <tr>\n",
       "      <th>3</th>\n",
       "      <td>20001218X45448</td>\n",
       "      <td>Accident</td>\n",
       "      <td>LAX96LA321</td>\n",
       "      <td>1977-06-19</td>\n",
       "      <td>EUREKA, CA</td>\n",
       "      <td>United States</td>\n",
       "      <td>NaN</td>\n",
       "      <td>NaN</td>\n",
       "      <td>NaN</td>\n",
       "      <td>NaN</td>\n",
       "      <td>...</td>\n",
       "      <td>Personal</td>\n",
       "      <td>NaN</td>\n",
       "      <td>2.0</td>\n",
       "      <td>0.0</td>\n",
       "      <td>0.0</td>\n",
       "      <td>0.0</td>\n",
       "      <td>IMC</td>\n",
       "      <td>Cruise</td>\n",
       "      <td>Probable Cause</td>\n",
       "      <td>12-09-2000</td>\n",
       "    </tr>\n",
       "    <tr>\n",
       "      <th>4</th>\n",
       "      <td>20041105X01764</td>\n",
       "      <td>Accident</td>\n",
       "      <td>CHI79FA064</td>\n",
       "      <td>1979-08-02</td>\n",
       "      <td>Canton, OH</td>\n",
       "      <td>United States</td>\n",
       "      <td>NaN</td>\n",
       "      <td>NaN</td>\n",
       "      <td>NaN</td>\n",
       "      <td>NaN</td>\n",
       "      <td>...</td>\n",
       "      <td>Personal</td>\n",
       "      <td>NaN</td>\n",
       "      <td>1.0</td>\n",
       "      <td>2.0</td>\n",
       "      <td>NaN</td>\n",
       "      <td>0.0</td>\n",
       "      <td>VMC</td>\n",
       "      <td>Approach</td>\n",
       "      <td>Probable Cause</td>\n",
       "      <td>16-04-1980</td>\n",
       "    </tr>\n",
       "  </tbody>\n",
       "</table>\n",
       "<p>5 rows × 31 columns</p>\n",
       "</div>"
      ],
      "text/plain": [
       "         Event.Id Investigation.Type Accident.Number  Event.Date  \\\n",
       "0  20001218X45444           Accident      SEA87LA080  1948-10-24   \n",
       "1  20001218X45447           Accident      LAX94LA336  1962-07-19   \n",
       "2  20061025X01555           Accident      NYC07LA005  1974-08-30   \n",
       "3  20001218X45448           Accident      LAX96LA321  1977-06-19   \n",
       "4  20041105X01764           Accident      CHI79FA064  1979-08-02   \n",
       "\n",
       "          Location        Country Latitude Longitude Airport.Code  \\\n",
       "0  MOOSE CREEK, ID  United States      NaN       NaN          NaN   \n",
       "1   BRIDGEPORT, CA  United States      NaN       NaN          NaN   \n",
       "2    Saltville, VA  United States  36.9222  -81.8781          NaN   \n",
       "3       EUREKA, CA  United States      NaN       NaN          NaN   \n",
       "4       Canton, OH  United States      NaN       NaN          NaN   \n",
       "\n",
       "  Airport.Name  ... Purpose.of.flight Air.carrier Total.Fatal.Injuries  \\\n",
       "0          NaN  ...          Personal         NaN                  2.0   \n",
       "1          NaN  ...          Personal         NaN                  4.0   \n",
       "2          NaN  ...          Personal         NaN                  3.0   \n",
       "3          NaN  ...          Personal         NaN                  2.0   \n",
       "4          NaN  ...          Personal         NaN                  1.0   \n",
       "\n",
       "  Total.Serious.Injuries Total.Minor.Injuries Total.Uninjured  \\\n",
       "0                    0.0                  0.0             0.0   \n",
       "1                    0.0                  0.0             0.0   \n",
       "2                    NaN                  NaN             NaN   \n",
       "3                    0.0                  0.0             0.0   \n",
       "4                    2.0                  NaN             0.0   \n",
       "\n",
       "  Weather.Condition  Broad.phase.of.flight   Report.Status Publication.Date  \n",
       "0               UNK                 Cruise  Probable Cause              NaN  \n",
       "1               UNK                Unknown  Probable Cause       19-09-1996  \n",
       "2               IMC                 Cruise  Probable Cause       26-02-2007  \n",
       "3               IMC                 Cruise  Probable Cause       12-09-2000  \n",
       "4               VMC               Approach  Probable Cause       16-04-1980  \n",
       "\n",
       "[5 rows x 31 columns]"
      ]
     },
     "execution_count": 947,
     "metadata": {},
     "output_type": "execute_result"
    }
   ],
   "source": [
    "df.head()"
   ]
  },
  {
   "cell_type": "code",
   "execution_count": 948,
   "metadata": {
    "scrolled": true
   },
   "outputs": [
    {
     "name": "stdout",
     "output_type": "stream",
     "text": [
      "<class 'pandas.core.frame.DataFrame'>\n",
      "RangeIndex: 90348 entries, 0 to 90347\n",
      "Data columns (total 31 columns):\n",
      " #   Column                  Non-Null Count  Dtype  \n",
      "---  ------                  --------------  -----  \n",
      " 0   Event.Id                88889 non-null  object \n",
      " 1   Investigation.Type      90348 non-null  object \n",
      " 2   Accident.Number         88889 non-null  object \n",
      " 3   Event.Date              88889 non-null  object \n",
      " 4   Location                88837 non-null  object \n",
      " 5   Country                 88663 non-null  object \n",
      " 6   Latitude                34382 non-null  object \n",
      " 7   Longitude               34373 non-null  object \n",
      " 8   Airport.Code            50249 non-null  object \n",
      " 9   Airport.Name            52790 non-null  object \n",
      " 10  Injury.Severity         87889 non-null  object \n",
      " 11  Aircraft.damage         85695 non-null  object \n",
      " 12  Aircraft.Category       32287 non-null  object \n",
      " 13  Registration.Number     87572 non-null  object \n",
      " 14  Make                    88826 non-null  object \n",
      " 15  Model                   88797 non-null  object \n",
      " 16  Amateur.Built           88787 non-null  object \n",
      " 17  Number.of.Engines       82805 non-null  float64\n",
      " 18  Engine.Type             81812 non-null  object \n",
      " 19  FAR.Description         32023 non-null  object \n",
      " 20  Schedule                12582 non-null  object \n",
      " 21  Purpose.of.flight       82697 non-null  object \n",
      " 22  Air.carrier             16648 non-null  object \n",
      " 23  Total.Fatal.Injuries    77488 non-null  float64\n",
      " 24  Total.Serious.Injuries  76379 non-null  float64\n",
      " 25  Total.Minor.Injuries    76956 non-null  float64\n",
      " 26  Total.Uninjured         82977 non-null  float64\n",
      " 27  Weather.Condition       84397 non-null  object \n",
      " 28  Broad.phase.of.flight   61724 non-null  object \n",
      " 29  Report.Status           82508 non-null  object \n",
      " 30  Publication.Date        73659 non-null  object \n",
      "dtypes: float64(5), object(26)\n",
      "memory usage: 21.4+ MB\n"
     ]
    }
   ],
   "source": [
    "df.info()"
   ]
  },
  {
   "cell_type": "code",
   "execution_count": 949,
   "metadata": {},
   "outputs": [],
   "source": [
    "#Im going to lowercase all the columns to make them easier to deal with but i like the period seperation. \n",
    "df.columns = df.columns.str.lower()"
   ]
  },
  {
   "cell_type": "code",
   "execution_count": 950,
   "metadata": {},
   "outputs": [
    {
     "data": {
      "text/plain": [
       "Accident      85015\n",
       "Incident       3874\n",
       "25-09-2020      702\n",
       "26-09-2020       60\n",
       "02-02-2021       39\n",
       "Name: investigation.type, dtype: int64"
      ]
     },
     "execution_count": 950,
     "metadata": {},
     "output_type": "execute_result"
    }
   ],
   "source": [
    "#We see that we will need to determine if there is a difference between accident, incident, and date.\n",
    "df['investigation.type'].value_counts().head()"
   ]
  },
  {
   "cell_type": "code",
   "execution_count": 951,
   "metadata": {},
   "outputs": [
    {
     "data": {
      "text/plain": [
       "Substantial    64148\n",
       "Destroyed      18623\n",
       "Minor           2805\n",
       "Unknown          119\n",
       "Name: aircraft.damage, dtype: int64"
      ]
     },
     "execution_count": 951,
     "metadata": {},
     "output_type": "execute_result"
    }
   ],
   "source": [
    "#We have unknown values in this column that will need to be handled.\n",
    "df['aircraft.damage'].value_counts()"
   ]
  },
  {
   "cell_type": "code",
   "execution_count": 952,
   "metadata": {},
   "outputs": [
    {
     "data": {
      "text/plain": [
       "Cessna    22227\n",
       "Piper     12029\n",
       "CESSNA     4922\n",
       "Beech      4330\n",
       "PIPER      2841\n",
       "Name: make, dtype: int64"
      ]
     },
     "execution_count": 952,
     "metadata": {},
     "output_type": "execute_result"
    }
   ],
   "source": [
    "#We have makes of the same kind just different capitalization that will need to be fixed. \n",
    "df['make'].value_counts().head()"
   ]
  },
  {
   "cell_type": "code",
   "execution_count": 953,
   "metadata": {},
   "outputs": [
    {
     "data": {
      "text/plain": [
       "152          2367\n",
       "172          1756\n",
       "172N         1164\n",
       "PA-28-140     932\n",
       "150           829\n",
       "Name: model, dtype: int64"
      ]
     },
     "execution_count": 953,
     "metadata": {},
     "output_type": "execute_result"
    }
   ],
   "source": [
    "#We have similar model types that will have to be consolidated.\n",
    "df['model'].value_counts().head()"
   ]
  },
  {
   "cell_type": "code",
   "execution_count": 954,
   "metadata": {},
   "outputs": [
    {
     "data": {
      "text/plain": [
       "1.0    69582\n",
       "2.0    11079\n",
       "0.0     1226\n",
       "3.0      483\n",
       "4.0      431\n",
       "Name: number.of.engines, dtype: int64"
      ]
     },
     "execution_count": 954,
     "metadata": {},
     "output_type": "execute_result"
    }
   ],
   "source": [
    "#We do not have half or quarter part an engine so this will always be a whole number. Will need to change that. \n",
    "df['number.of.engines'].value_counts().head()"
   ]
  },
  {
   "cell_type": "code",
   "execution_count": 955,
   "metadata": {},
   "outputs": [
    {
     "data": {
      "text/plain": [
       "0.0    59675\n",
       "1.0     8883\n",
       "2.0     5173\n",
       "3.0     1589\n",
       "4.0     1103\n",
       "Name: total.fatal.injuries, dtype: int64"
      ]
     },
     "execution_count": 955,
     "metadata": {},
     "output_type": "execute_result"
    }
   ],
   "source": [
    "#People are whole numbers. Will need to change to int for all four injury columns.\n",
    "df['total.fatal.injuries'].value_counts().head()"
   ]
  },
  {
   "cell_type": "code",
   "execution_count": 956,
   "metadata": {},
   "outputs": [
    {
     "data": {
      "text/plain": [
       "0.0    63289\n",
       "1.0     9125\n",
       "2.0     2815\n",
       "3.0      629\n",
       "4.0      258\n",
       "Name: total.serious.injuries, dtype: int64"
      ]
     },
     "execution_count": 956,
     "metadata": {},
     "output_type": "execute_result"
    }
   ],
   "source": [
    "df['total.serious.injuries'].value_counts().head()"
   ]
  },
  {
   "cell_type": "code",
   "execution_count": 957,
   "metadata": {},
   "outputs": [
    {
     "data": {
      "text/plain": [
       "0.0    61454\n",
       "1.0    10320\n",
       "2.0     3576\n",
       "3.0      784\n",
       "4.0      372\n",
       "Name: total.minor.injuries, dtype: int64"
      ]
     },
     "execution_count": 957,
     "metadata": {},
     "output_type": "execute_result"
    }
   ],
   "source": [
    "df['total.minor.injuries'].value_counts().head()"
   ]
  },
  {
   "cell_type": "code",
   "execution_count": 958,
   "metadata": {},
   "outputs": [
    {
     "data": {
      "text/plain": [
       "0.0    29879\n",
       "1.0    25101\n",
       "2.0    15988\n",
       "3.0     4313\n",
       "4.0     2662\n",
       "Name: total.uninjured, dtype: int64"
      ]
     },
     "execution_count": 958,
     "metadata": {},
     "output_type": "execute_result"
    }
   ],
   "source": [
    "df['total.uninjured'].value_counts().head()"
   ]
  },
  {
   "cell_type": "markdown",
   "metadata": {},
   "source": [
    "## Data Preparation"
   ]
  },
  {
   "cell_type": "markdown",
   "metadata": {},
   "source": [
    "### Data Cleaning"
   ]
  },
  {
   "cell_type": "markdown",
   "metadata": {},
   "source": [
    "We will drop all unnecessary columns from the dataframe. Next, we will narrow our dataset to small instructional \n",
    "Airplanes; handling missing/null values along the way. Then, we will handle any remaining missing/null values. Finally, we will consolidate our dataset to the most highly represented makes and models so it can be analyzed in the next section. "
   ]
  },
  {
   "cell_type": "code",
   "execution_count": 959,
   "metadata": {},
   "outputs": [
    {
     "data": {
      "text/html": [
       "<div>\n",
       "<style scoped>\n",
       "    .dataframe tbody tr th:only-of-type {\n",
       "        vertical-align: middle;\n",
       "    }\n",
       "\n",
       "    .dataframe tbody tr th {\n",
       "        vertical-align: top;\n",
       "    }\n",
       "\n",
       "    .dataframe thead th {\n",
       "        text-align: right;\n",
       "    }\n",
       "</style>\n",
       "<table border=\"1\" class=\"dataframe\">\n",
       "  <thead>\n",
       "    <tr style=\"text-align: right;\">\n",
       "      <th></th>\n",
       "      <th>investigation.type</th>\n",
       "      <th>event.date</th>\n",
       "      <th>location</th>\n",
       "      <th>country</th>\n",
       "      <th>aircraft.damage</th>\n",
       "      <th>aircraft.category</th>\n",
       "      <th>make</th>\n",
       "      <th>model</th>\n",
       "      <th>amateur.built</th>\n",
       "      <th>number.of.engines</th>\n",
       "      <th>engine.type</th>\n",
       "      <th>purpose.of.flight</th>\n",
       "      <th>air.carrier</th>\n",
       "      <th>total.fatal.injuries</th>\n",
       "      <th>total.serious.injuries</th>\n",
       "      <th>total.minor.injuries</th>\n",
       "      <th>total.uninjured</th>\n",
       "      <th>weather.condition</th>\n",
       "      <th>broad.phase.of.flight</th>\n",
       "    </tr>\n",
       "  </thead>\n",
       "  <tbody>\n",
       "    <tr>\n",
       "      <th>0</th>\n",
       "      <td>Accident</td>\n",
       "      <td>1948-10-24</td>\n",
       "      <td>MOOSE CREEK, ID</td>\n",
       "      <td>United States</td>\n",
       "      <td>Destroyed</td>\n",
       "      <td>NaN</td>\n",
       "      <td>Stinson</td>\n",
       "      <td>108-3</td>\n",
       "      <td>No</td>\n",
       "      <td>1.0</td>\n",
       "      <td>Reciprocating</td>\n",
       "      <td>Personal</td>\n",
       "      <td>NaN</td>\n",
       "      <td>2.0</td>\n",
       "      <td>0.0</td>\n",
       "      <td>0.0</td>\n",
       "      <td>0.0</td>\n",
       "      <td>UNK</td>\n",
       "      <td>Cruise</td>\n",
       "    </tr>\n",
       "    <tr>\n",
       "      <th>1</th>\n",
       "      <td>Accident</td>\n",
       "      <td>1962-07-19</td>\n",
       "      <td>BRIDGEPORT, CA</td>\n",
       "      <td>United States</td>\n",
       "      <td>Destroyed</td>\n",
       "      <td>NaN</td>\n",
       "      <td>Piper</td>\n",
       "      <td>PA24-180</td>\n",
       "      <td>No</td>\n",
       "      <td>1.0</td>\n",
       "      <td>Reciprocating</td>\n",
       "      <td>Personal</td>\n",
       "      <td>NaN</td>\n",
       "      <td>4.0</td>\n",
       "      <td>0.0</td>\n",
       "      <td>0.0</td>\n",
       "      <td>0.0</td>\n",
       "      <td>UNK</td>\n",
       "      <td>Unknown</td>\n",
       "    </tr>\n",
       "    <tr>\n",
       "      <th>2</th>\n",
       "      <td>Accident</td>\n",
       "      <td>1974-08-30</td>\n",
       "      <td>Saltville, VA</td>\n",
       "      <td>United States</td>\n",
       "      <td>Destroyed</td>\n",
       "      <td>NaN</td>\n",
       "      <td>Cessna</td>\n",
       "      <td>172M</td>\n",
       "      <td>No</td>\n",
       "      <td>1.0</td>\n",
       "      <td>Reciprocating</td>\n",
       "      <td>Personal</td>\n",
       "      <td>NaN</td>\n",
       "      <td>3.0</td>\n",
       "      <td>NaN</td>\n",
       "      <td>NaN</td>\n",
       "      <td>NaN</td>\n",
       "      <td>IMC</td>\n",
       "      <td>Cruise</td>\n",
       "    </tr>\n",
       "    <tr>\n",
       "      <th>3</th>\n",
       "      <td>Accident</td>\n",
       "      <td>1977-06-19</td>\n",
       "      <td>EUREKA, CA</td>\n",
       "      <td>United States</td>\n",
       "      <td>Destroyed</td>\n",
       "      <td>NaN</td>\n",
       "      <td>Rockwell</td>\n",
       "      <td>112</td>\n",
       "      <td>No</td>\n",
       "      <td>1.0</td>\n",
       "      <td>Reciprocating</td>\n",
       "      <td>Personal</td>\n",
       "      <td>NaN</td>\n",
       "      <td>2.0</td>\n",
       "      <td>0.0</td>\n",
       "      <td>0.0</td>\n",
       "      <td>0.0</td>\n",
       "      <td>IMC</td>\n",
       "      <td>Cruise</td>\n",
       "    </tr>\n",
       "    <tr>\n",
       "      <th>4</th>\n",
       "      <td>Accident</td>\n",
       "      <td>1979-08-02</td>\n",
       "      <td>Canton, OH</td>\n",
       "      <td>United States</td>\n",
       "      <td>Destroyed</td>\n",
       "      <td>NaN</td>\n",
       "      <td>Cessna</td>\n",
       "      <td>501</td>\n",
       "      <td>No</td>\n",
       "      <td>NaN</td>\n",
       "      <td>NaN</td>\n",
       "      <td>Personal</td>\n",
       "      <td>NaN</td>\n",
       "      <td>1.0</td>\n",
       "      <td>2.0</td>\n",
       "      <td>NaN</td>\n",
       "      <td>0.0</td>\n",
       "      <td>VMC</td>\n",
       "      <td>Approach</td>\n",
       "    </tr>\n",
       "  </tbody>\n",
       "</table>\n",
       "</div>"
      ],
      "text/plain": [
       "  investigation.type  event.date         location        country  \\\n",
       "0           Accident  1948-10-24  MOOSE CREEK, ID  United States   \n",
       "1           Accident  1962-07-19   BRIDGEPORT, CA  United States   \n",
       "2           Accident  1974-08-30    Saltville, VA  United States   \n",
       "3           Accident  1977-06-19       EUREKA, CA  United States   \n",
       "4           Accident  1979-08-02       Canton, OH  United States   \n",
       "\n",
       "  aircraft.damage aircraft.category      make     model amateur.built  \\\n",
       "0       Destroyed               NaN   Stinson     108-3            No   \n",
       "1       Destroyed               NaN     Piper  PA24-180            No   \n",
       "2       Destroyed               NaN    Cessna      172M            No   \n",
       "3       Destroyed               NaN  Rockwell       112            No   \n",
       "4       Destroyed               NaN    Cessna       501            No   \n",
       "\n",
       "   number.of.engines    engine.type purpose.of.flight air.carrier  \\\n",
       "0                1.0  Reciprocating          Personal         NaN   \n",
       "1                1.0  Reciprocating          Personal         NaN   \n",
       "2                1.0  Reciprocating          Personal         NaN   \n",
       "3                1.0  Reciprocating          Personal         NaN   \n",
       "4                NaN            NaN          Personal         NaN   \n",
       "\n",
       "   total.fatal.injuries  total.serious.injuries  total.minor.injuries  \\\n",
       "0                   2.0                     0.0                   0.0   \n",
       "1                   4.0                     0.0                   0.0   \n",
       "2                   3.0                     NaN                   NaN   \n",
       "3                   2.0                     0.0                   0.0   \n",
       "4                   1.0                     2.0                   NaN   \n",
       "\n",
       "   total.uninjured weather.condition broad.phase.of.flight  \n",
       "0              0.0               UNK                Cruise  \n",
       "1              0.0               UNK               Unknown  \n",
       "2              NaN               IMC                Cruise  \n",
       "3              0.0               IMC                Cruise  \n",
       "4              0.0               VMC              Approach  "
      ]
     },
     "execution_count": 959,
     "metadata": {},
     "output_type": "execute_result"
    }
   ],
   "source": [
    "## We are dropping columns that have too many null/missing values, columns that have unique identifiers or are already\n",
    "##represented by another row in the dataset. Essentially, if the column is not useful in assessing risk of an aircraft\n",
    "##, something the stakeholders can control, or will not help us narrow down our dataset based on our scope; then it\n",
    "##is safe to remove the column from the dataset as it has no value to us. \n",
    "df = df.drop(columns=['latitude', 'longitude', 'airport.code', 'airport.name', 'registration.number', 'schedule', \n",
    "                      'far.description','publication.date','event.id','accident.number','injury.severity',\n",
    "                      'report.status','publication.date'])\n",
    "df.head()"
   ]
  },
  {
   "cell_type": "code",
   "execution_count": 960,
   "metadata": {},
   "outputs": [],
   "source": [
    "#We are going to remove the event date category. Based on research it is not the age of a plane that is an issue at \n",
    "#all but the maintenance of the plane itself. Many planes that were invented long ago are still being used today. \n",
    "#For example, the cessna 170 is one of the more popular small airplanes and it was introduced in 1948."
   ]
  },
  {
   "cell_type": "code",
   "execution_count": 961,
   "metadata": {},
   "outputs": [],
   "source": [
    "df.drop(columns='event.date',inplace=True)"
   ]
  },
  {
   "cell_type": "code",
   "execution_count": 962,
   "metadata": {},
   "outputs": [],
   "source": [
    "#I only want to look at accidents in the US so for country and location i will narrow it down and then remove those\n",
    "#columns as im not going to use any form of location for my analysis. "
   ]
  },
  {
   "cell_type": "code",
   "execution_count": 963,
   "metadata": {},
   "outputs": [],
   "source": [
    "df = df[df['country']=='United States']"
   ]
  },
  {
   "cell_type": "code",
   "execution_count": 964,
   "metadata": {},
   "outputs": [],
   "source": [
    "df.drop(columns=['location','country'],inplace=True)"
   ]
  },
  {
   "cell_type": "code",
   "execution_count": 965,
   "metadata": {},
   "outputs": [],
   "source": [
    "#Common sense, we are not going to suggest an aircraft that was built by an amateur so we will filter out any 'Yes'\n",
    "#values and then drop the column. "
   ]
  },
  {
   "cell_type": "code",
   "execution_count": 966,
   "metadata": {},
   "outputs": [],
   "source": [
    "df = df[df['amateur.built']=='No']"
   ]
  },
  {
   "cell_type": "code",
   "execution_count": 967,
   "metadata": {},
   "outputs": [],
   "source": [
    "df.drop(columns='amateur.built',inplace=True)"
   ]
  },
  {
   "cell_type": "code",
   "execution_count": 968,
   "metadata": {},
   "outputs": [],
   "source": [
    "#The rest of the columns id like to explore further and handle missing values, but it appears that air.carrier has\n",
    "#an extreme amount of missing values which is not going to be helpful for us. We will have to drop this column."
   ]
  },
  {
   "cell_type": "code",
   "execution_count": 969,
   "metadata": {},
   "outputs": [],
   "source": [
    "df.drop(columns='air.carrier',inplace=True)"
   ]
  },
  {
   "cell_type": "code",
   "execution_count": 970,
   "metadata": {},
   "outputs": [],
   "source": [
    "## both weather and broad phase of flight could be useful but they will not be involved in my three business \n",
    "##recommendations and because of that I am going to drop them from the dataset."
   ]
  },
  {
   "cell_type": "code",
   "execution_count": 971,
   "metadata": {},
   "outputs": [],
   "source": [
    "df.drop(columns=['weather.condition','broad.phase.of.flight'],inplace=True)"
   ]
  },
  {
   "cell_type": "code",
   "execution_count": 972,
   "metadata": {},
   "outputs": [
    {
     "data": {
      "text/plain": [
       "Accident    71596\n",
       "Incident     2310\n",
       "Name: investigation.type, dtype: int64"
      ]
     },
     "execution_count": 972,
     "metadata": {},
     "output_type": "execute_result"
    }
   ],
   "source": [
    "#Doesn't appear to be a difference between accidents,incidents, and dates as all have fatalities/injuries. We will\n",
    "#drop this column from the dataframe.\n",
    "df['investigation.type'].value_counts()"
   ]
  },
  {
   "cell_type": "code",
   "execution_count": 973,
   "metadata": {},
   "outputs": [
    {
     "data": {
      "text/plain": [
       "0.0    1917\n",
       "1.0      15\n",
       "2.0       1\n",
       "Name: total.fatal.injuries, dtype: int64"
      ]
     },
     "execution_count": 973,
     "metadata": {},
     "output_type": "execute_result"
    }
   ],
   "source": [
    "df[df['investigation.type']=='Incident']['total.fatal.injuries'].value_counts()"
   ]
  },
  {
   "cell_type": "code",
   "execution_count": 974,
   "metadata": {},
   "outputs": [],
   "source": [
    "df.drop(columns='investigation.type',inplace=True)"
   ]
  },
  {
   "cell_type": "markdown",
   "metadata": {},
   "source": [
    "### Narrowing the dataset to our stakeholders"
   ]
  },
  {
   "cell_type": "markdown",
   "metadata": {},
   "source": [
    "Our dataset needs to only include small instructional airplanes. We will begin to narrow down our dataset by handling aircraft category first for airplanes. After that, we will make sure the airplanes are instructional. Then, finally, we will make sure the remaining instructional airplanes are small. "
   ]
  },
  {
   "cell_type": "code",
   "execution_count": 975,
   "metadata": {
    "scrolled": true
   },
   "outputs": [
    {
     "name": "stdout",
     "output_type": "stream",
     "text": [
      "<class 'pandas.core.frame.DataFrame'>\n",
      "Int64Index: 73906 entries, 0 to 90347\n",
      "Data columns (total 11 columns):\n",
      " #   Column                  Non-Null Count  Dtype  \n",
      "---  ------                  --------------  -----  \n",
      " 0   aircraft.damage         71949 non-null  object \n",
      " 1   aircraft.category       24697 non-null  object \n",
      " 2   make                    73897 non-null  object \n",
      " 3   model                   73891 non-null  object \n",
      " 4   number.of.engines       72237 non-null  float64\n",
      " 5   engine.type             71156 non-null  object \n",
      " 6   purpose.of.flight       71481 non-null  object \n",
      " 7   total.fatal.injuries    64425 non-null  float64\n",
      " 8   total.serious.injuries  63850 non-null  float64\n",
      " 9   total.minor.injuries    64443 non-null  float64\n",
      " 10  total.uninjured         69830 non-null  float64\n",
      "dtypes: float64(5), object(6)\n",
      "memory usage: 6.8+ MB\n"
     ]
    }
   ],
   "source": [
    "df.info()"
   ]
  },
  {
   "cell_type": "markdown",
   "metadata": {},
   "source": [
    "#### Dataset for Airplanes"
   ]
  },
  {
   "cell_type": "code",
   "execution_count": 976,
   "metadata": {},
   "outputs": [],
   "source": [
    "#In order to first narrow our dataset to just airplanes we have to handle all of the missing values in aircraft \n",
    "#category so we do not lose a substantial amount of data. In order to do this, we know that the makes of aircrafts\n",
    "#are specific to their category. Meaning, we can take the makes that are distinct to airplanes and use that to replace\n",
    "#the missing values in aircraft category with airplane. For example, if the aircraft category is Nan but the make is\n",
    "#Cessna then we know that row represents an airplane accident. "
   ]
  },
  {
   "cell_type": "code",
   "execution_count": 977,
   "metadata": {},
   "outputs": [],
   "source": [
    "#First, we will need to handle the missing values in make and make sure to fix the capitalization issue mentioned\n",
    "#in our data understanding. "
   ]
  },
  {
   "cell_type": "code",
   "execution_count": 978,
   "metadata": {},
   "outputs": [
    {
     "data": {
      "text/plain": [
       "9"
      ]
     },
     "execution_count": 978,
     "metadata": {},
     "output_type": "execute_result"
    }
   ],
   "source": [
    "df['make'].isna().sum()"
   ]
  },
  {
   "cell_type": "code",
   "execution_count": 979,
   "metadata": {},
   "outputs": [],
   "source": [
    "df['make'] = df['make'].fillna('Cessna')"
   ]
  },
  {
   "cell_type": "code",
   "execution_count": 980,
   "metadata": {},
   "outputs": [],
   "source": [
    "df['make'] = df['make'].apply(lambda x: x.lower())"
   ]
  },
  {
   "cell_type": "code",
   "execution_count": 981,
   "metadata": {},
   "outputs": [
    {
     "data": {
      "text/plain": [
       "cessna                25779\n",
       "piper                 14125\n",
       "beech                  5043\n",
       "bell                   2272\n",
       "boeing                 1481\n",
       "                      ...  \n",
       "orlican s r o             1\n",
       "joby aero inc             1\n",
       "michael j robbins         1\n",
       "ayres corp                1\n",
       "michael v cranford        1\n",
       "Name: make, Length: 1771, dtype: int64"
      ]
     },
     "execution_count": 981,
     "metadata": {},
     "output_type": "execute_result"
    }
   ],
   "source": [
    "df['make'].value_counts()"
   ]
  },
  {
   "cell_type": "code",
   "execution_count": 982,
   "metadata": {},
   "outputs": [],
   "source": [
    "#checking makes of unknown aircraft category with list of largest airplane makes in order to replace Nan values. \n",
    "df['aircraft.category'] = df.apply(lambda x: 'Airplane' if x['make'] in ['cessna','piper','beech','mooney','boeing']\n",
    "                                   else x['aircraft.category'], axis=1)"
   ]
  },
  {
   "cell_type": "code",
   "execution_count": 983,
   "metadata": {},
   "outputs": [],
   "source": [
    "#Now the dataframe only has airplanes\n",
    "df = df[df['aircraft.category']=='Airplane']"
   ]
  },
  {
   "cell_type": "code",
   "execution_count": 984,
   "metadata": {},
   "outputs": [],
   "source": [
    "#We can remove the aircraft.category column now as all the values are 'airplane'.\n",
    "df.drop(columns='aircraft.category',inplace=True)"
   ]
  },
  {
   "cell_type": "markdown",
   "metadata": {},
   "source": [
    "#### Dataset for Instructional airplanes"
   ]
  },
  {
   "cell_type": "code",
   "execution_count": null,
   "metadata": {},
   "outputs": [],
   "source": []
  },
  {
   "cell_type": "code",
   "execution_count": 985,
   "metadata": {},
   "outputs": [],
   "source": [
    "#Now we want to get airplanes that will be used for instructional purposes. If we are able to create a list of \n",
    "#instructional makes and models, then we can go through the df and keep all the data for makes and models that could \n",
    "#be used for instructional purposes. That way we do not lose a lot of data by just solely looking at the \n",
    "#instructional purpose of flight as these makes and models will overlap. "
   ]
  },
  {
   "cell_type": "code",
   "execution_count": 986,
   "metadata": {},
   "outputs": [
    {
     "data": {
      "text/plain": [
       "Personal                     33398\n",
       "Instructional                 8168\n",
       "Unknown                       3223\n",
       "Business                      2837\n",
       "Aerial Application            1866\n",
       "Positioning                    843\n",
       "Ferry                          458\n",
       "Other Work Use                 445\n",
       "Aerial Observation             349\n",
       "Executive/corporate            337\n",
       "Public Aircraft                228\n",
       "Skydiving                      166\n",
       "Flight Test                    151\n",
       "Banner Tow                      97\n",
       "Public Aircraft - Federal       55\n",
       "Air Race show                   39\n",
       "Glider Tow                      38\n",
       "Public Aircraft - State         28\n",
       "Firefighting                    14\n",
       "Public Aircraft - Local         12\n",
       "Air Race/show                    7\n",
       "ASHO                             5\n",
       "Air Drop                         5\n",
       "PUBS                             3\n",
       "Name: purpose.of.flight, dtype: int64"
      ]
     },
     "execution_count": 986,
     "metadata": {},
     "output_type": "execute_result"
    }
   ],
   "source": [
    "#First, handles missing/unknown values for purpose.of.flight. Missing/Unkown categorical data is low so fill in \n",
    "#missing/unknown values with the mode.\n",
    "\n",
    "df['purpose.of.flight'].value_counts()"
   ]
  },
  {
   "cell_type": "code",
   "execution_count": 987,
   "metadata": {},
   "outputs": [],
   "source": [
    "df['purpose.of.flight'] = df['purpose.of.flight'].fillna('Personal')"
   ]
  },
  {
   "cell_type": "code",
   "execution_count": 988,
   "metadata": {},
   "outputs": [],
   "source": [
    "df['purpose.of.flight'] = df['purpose.of.flight'].apply(lambda x: 'Personal' if x == 'Unknown' else x)"
   ]
  },
  {
   "cell_type": "code",
   "execution_count": 989,
   "metadata": {},
   "outputs": [
    {
     "data": {
      "text/html": [
       "<div>\n",
       "<style scoped>\n",
       "    .dataframe tbody tr th:only-of-type {\n",
       "        vertical-align: middle;\n",
       "    }\n",
       "\n",
       "    .dataframe tbody tr th {\n",
       "        vertical-align: top;\n",
       "    }\n",
       "\n",
       "    .dataframe thead th {\n",
       "        text-align: right;\n",
       "    }\n",
       "</style>\n",
       "<table border=\"1\" class=\"dataframe\">\n",
       "  <thead>\n",
       "    <tr style=\"text-align: right;\">\n",
       "      <th></th>\n",
       "      <th>aircraft.damage</th>\n",
       "      <th>make</th>\n",
       "      <th>model</th>\n",
       "      <th>number.of.engines</th>\n",
       "      <th>engine.type</th>\n",
       "      <th>purpose.of.flight</th>\n",
       "      <th>total.fatal.injuries</th>\n",
       "      <th>total.serious.injuries</th>\n",
       "      <th>total.minor.injuries</th>\n",
       "      <th>total.uninjured</th>\n",
       "    </tr>\n",
       "  </thead>\n",
       "  <tbody>\n",
       "    <tr>\n",
       "      <th>20</th>\n",
       "      <td>Substantial</td>\n",
       "      <td>cessna</td>\n",
       "      <td>152</td>\n",
       "      <td>1.0</td>\n",
       "      <td>Reciprocating</td>\n",
       "      <td>Instructional</td>\n",
       "      <td>0.0</td>\n",
       "      <td>0.0</td>\n",
       "      <td>0.0</td>\n",
       "      <td>1.0</td>\n",
       "    </tr>\n",
       "    <tr>\n",
       "      <th>48</th>\n",
       "      <td>Substantial</td>\n",
       "      <td>cessna</td>\n",
       "      <td>152</td>\n",
       "      <td>1.0</td>\n",
       "      <td>Reciprocating</td>\n",
       "      <td>Instructional</td>\n",
       "      <td>0.0</td>\n",
       "      <td>0.0</td>\n",
       "      <td>0.0</td>\n",
       "      <td>2.0</td>\n",
       "    </tr>\n",
       "    <tr>\n",
       "      <th>57</th>\n",
       "      <td>Substantial</td>\n",
       "      <td>cessna</td>\n",
       "      <td>152</td>\n",
       "      <td>1.0</td>\n",
       "      <td>Reciprocating</td>\n",
       "      <td>Instructional</td>\n",
       "      <td>0.0</td>\n",
       "      <td>0.0</td>\n",
       "      <td>0.0</td>\n",
       "      <td>1.0</td>\n",
       "    </tr>\n",
       "    <tr>\n",
       "      <th>58</th>\n",
       "      <td>Substantial</td>\n",
       "      <td>piper</td>\n",
       "      <td>PA-24-250</td>\n",
       "      <td>1.0</td>\n",
       "      <td>Reciprocating</td>\n",
       "      <td>Instructional</td>\n",
       "      <td>0.0</td>\n",
       "      <td>0.0</td>\n",
       "      <td>0.0</td>\n",
       "      <td>2.0</td>\n",
       "    </tr>\n",
       "    <tr>\n",
       "      <th>59</th>\n",
       "      <td>Substantial</td>\n",
       "      <td>cessna</td>\n",
       "      <td>152</td>\n",
       "      <td>1.0</td>\n",
       "      <td>Reciprocating</td>\n",
       "      <td>Instructional</td>\n",
       "      <td>0.0</td>\n",
       "      <td>0.0</td>\n",
       "      <td>0.0</td>\n",
       "      <td>1.0</td>\n",
       "    </tr>\n",
       "    <tr>\n",
       "      <th>...</th>\n",
       "      <td>...</td>\n",
       "      <td>...</td>\n",
       "      <td>...</td>\n",
       "      <td>...</td>\n",
       "      <td>...</td>\n",
       "      <td>...</td>\n",
       "      <td>...</td>\n",
       "      <td>...</td>\n",
       "      <td>...</td>\n",
       "      <td>...</td>\n",
       "    </tr>\n",
       "    <tr>\n",
       "      <th>90241</th>\n",
       "      <td>NaN</td>\n",
       "      <td>piper</td>\n",
       "      <td>PA-28-180</td>\n",
       "      <td>NaN</td>\n",
       "      <td>NaN</td>\n",
       "      <td>Instructional</td>\n",
       "      <td>0.0</td>\n",
       "      <td>0.0</td>\n",
       "      <td>0.0</td>\n",
       "      <td>2.0</td>\n",
       "    </tr>\n",
       "    <tr>\n",
       "      <th>90255</th>\n",
       "      <td>Substantial</td>\n",
       "      <td>cessna</td>\n",
       "      <td>172M</td>\n",
       "      <td>1.0</td>\n",
       "      <td>NaN</td>\n",
       "      <td>Instructional</td>\n",
       "      <td>0.0</td>\n",
       "      <td>0.0</td>\n",
       "      <td>0.0</td>\n",
       "      <td>3.0</td>\n",
       "    </tr>\n",
       "    <tr>\n",
       "      <th>90266</th>\n",
       "      <td>Substantial</td>\n",
       "      <td>piper</td>\n",
       "      <td>PA28</td>\n",
       "      <td>1.0</td>\n",
       "      <td>NaN</td>\n",
       "      <td>Instructional</td>\n",
       "      <td>0.0</td>\n",
       "      <td>1.0</td>\n",
       "      <td>0.0</td>\n",
       "      <td>1.0</td>\n",
       "    </tr>\n",
       "    <tr>\n",
       "      <th>90276</th>\n",
       "      <td>Substantial</td>\n",
       "      <td>textron aviation inc</td>\n",
       "      <td>172</td>\n",
       "      <td>1.0</td>\n",
       "      <td>NaN</td>\n",
       "      <td>Instructional</td>\n",
       "      <td>0.0</td>\n",
       "      <td>0.0</td>\n",
       "      <td>0.0</td>\n",
       "      <td>2.0</td>\n",
       "    </tr>\n",
       "    <tr>\n",
       "      <th>90324</th>\n",
       "      <td>Substantial</td>\n",
       "      <td>cessna</td>\n",
       "      <td>172</td>\n",
       "      <td>1.0</td>\n",
       "      <td>NaN</td>\n",
       "      <td>Instructional</td>\n",
       "      <td>0.0</td>\n",
       "      <td>0.0</td>\n",
       "      <td>0.0</td>\n",
       "      <td>1.0</td>\n",
       "    </tr>\n",
       "  </tbody>\n",
       "</table>\n",
       "<p>8168 rows × 10 columns</p>\n",
       "</div>"
      ],
      "text/plain": [
       "      aircraft.damage                  make      model  number.of.engines  \\\n",
       "20        Substantial                cessna        152                1.0   \n",
       "48        Substantial                cessna        152                1.0   \n",
       "57        Substantial                cessna        152                1.0   \n",
       "58        Substantial                 piper  PA-24-250                1.0   \n",
       "59        Substantial                cessna        152                1.0   \n",
       "...               ...                   ...        ...                ...   \n",
       "90241             NaN                 piper  PA-28-180                NaN   \n",
       "90255     Substantial                cessna       172M                1.0   \n",
       "90266     Substantial                 piper       PA28                1.0   \n",
       "90276     Substantial  textron aviation inc        172                1.0   \n",
       "90324     Substantial                cessna        172                1.0   \n",
       "\n",
       "         engine.type purpose.of.flight  total.fatal.injuries  \\\n",
       "20     Reciprocating     Instructional                   0.0   \n",
       "48     Reciprocating     Instructional                   0.0   \n",
       "57     Reciprocating     Instructional                   0.0   \n",
       "58     Reciprocating     Instructional                   0.0   \n",
       "59     Reciprocating     Instructional                   0.0   \n",
       "...              ...               ...                   ...   \n",
       "90241            NaN     Instructional                   0.0   \n",
       "90255            NaN     Instructional                   0.0   \n",
       "90266            NaN     Instructional                   0.0   \n",
       "90276            NaN     Instructional                   0.0   \n",
       "90324            NaN     Instructional                   0.0   \n",
       "\n",
       "       total.serious.injuries  total.minor.injuries  total.uninjured  \n",
       "20                        0.0                   0.0              1.0  \n",
       "48                        0.0                   0.0              2.0  \n",
       "57                        0.0                   0.0              1.0  \n",
       "58                        0.0                   0.0              2.0  \n",
       "59                        0.0                   0.0              1.0  \n",
       "...                       ...                   ...              ...  \n",
       "90241                     0.0                   0.0              2.0  \n",
       "90255                     0.0                   0.0              3.0  \n",
       "90266                     1.0                   0.0              1.0  \n",
       "90276                     0.0                   0.0              2.0  \n",
       "90324                     0.0                   0.0              1.0  \n",
       "\n",
       "[8168 rows x 10 columns]"
      ]
     },
     "execution_count": 989,
     "metadata": {},
     "output_type": "execute_result"
    }
   ],
   "source": [
    "df[df['purpose.of.flight']=='Instructional']"
   ]
  },
  {
   "cell_type": "code",
   "execution_count": 990,
   "metadata": {},
   "outputs": [],
   "source": [
    "instructional_makes = list(set(df[df['purpose.of.flight']=='Instructional']['make'].values))"
   ]
  },
  {
   "cell_type": "code",
   "execution_count": 991,
   "metadata": {},
   "outputs": [],
   "source": [
    "df['make'] = df.apply(lambda x: 'no' if x['make'] not in instructional_makes else x['make'],axis=1)"
   ]
  },
  {
   "cell_type": "code",
   "execution_count": 992,
   "metadata": {},
   "outputs": [],
   "source": [
    "df = df[df['make'] != 'no']"
   ]
  },
  {
   "cell_type": "code",
   "execution_count": 993,
   "metadata": {},
   "outputs": [
    {
     "data": {
      "text/plain": [
       "52269"
      ]
     },
     "execution_count": 993,
     "metadata": {},
     "output_type": "execute_result"
    }
   ],
   "source": [
    "len(df)"
   ]
  },
  {
   "cell_type": "code",
   "execution_count": 994,
   "metadata": {},
   "outputs": [],
   "source": [
    "instructional_models = list(set(df[df['purpose.of.flight']=='Instructional']['model'].values))"
   ]
  },
  {
   "cell_type": "code",
   "execution_count": 995,
   "metadata": {},
   "outputs": [],
   "source": [
    "df['model'] = df.apply(lambda x: 'no' if x['model'] not in instructional_models else x['model'],axis=1)"
   ]
  },
  {
   "cell_type": "code",
   "execution_count": 996,
   "metadata": {},
   "outputs": [],
   "source": [
    "df = df[df['model'] != 'no']"
   ]
  },
  {
   "cell_type": "code",
   "execution_count": 997,
   "metadata": {},
   "outputs": [
    {
     "data": {
      "text/plain": [
       "43248"
      ]
     },
     "execution_count": 997,
     "metadata": {},
     "output_type": "execute_result"
    }
   ],
   "source": [
    "len(df)"
   ]
  },
  {
   "cell_type": "code",
   "execution_count": 998,
   "metadata": {},
   "outputs": [],
   "source": [
    "#Now we can drop the pupose of flight category as it has been used to get all the data for instructional airplanes. \n",
    "df.drop(columns='purpose.of.flight',inplace=True)"
   ]
  },
  {
   "cell_type": "code",
   "execution_count": null,
   "metadata": {},
   "outputs": [],
   "source": []
  },
  {
   "cell_type": "markdown",
   "metadata": {},
   "source": [
    "#### Dataset for Small Instructional Airplanes"
   ]
  },
  {
   "cell_type": "code",
   "execution_count": 999,
   "metadata": {},
   "outputs": [
    {
     "data": {
      "text/plain": [
       "1.0    38521\n",
       "2.0     4404\n",
       "0.0       17\n",
       "4.0        3\n",
       "Name: number.of.engines, dtype: int64"
      ]
     },
     "execution_count": 999,
     "metadata": {},
     "output_type": "execute_result"
    }
   ],
   "source": [
    "##We are going to deal with small sized planes. We know anything that is 1 engine is small but we do not know if 2\n",
    "##engines is small or large still. Based on research I've done (National Business Aviation Association); \n",
    "##it appears that reciprocating engines are mostly only used on small aircrafts. Additionally, if we reduce the \n",
    "##number of passengers we can further filter out aircrafts that we are certain are larger. We cannot guarentee that \n",
    "#every airplane will be small but by reducing the number of engines, the engine type, and the number of passengers \n",
    "#we can greatly reduce the number so that it will not affect any of our analysis or recommendations.Additionally,\n",
    "# once we get our dataset down we will be looking at the most highly represented makes/models and can check to \n",
    "#confirm they are all for smaller airplanes. Also, we know 0 engines isnt possible so that that will be filtered out\n",
    "#as well. We will create the total passengers column after dealing with null values for the injury columns.\n",
    "#(https://nbaa.org/business-aviation/business-aircraft/piston-engine-aircraft/)\n",
    "df['number.of.engines'].value_counts()"
   ]
  },
  {
   "cell_type": "code",
   "execution_count": 1000,
   "metadata": {},
   "outputs": [],
   "source": [
    "df=df[(df['number.of.engines']==2) | (df['number.of.engines']==1)]"
   ]
  },
  {
   "cell_type": "code",
   "execution_count": 1001,
   "metadata": {},
   "outputs": [],
   "source": [
    "#engines are whole numbers. Cant have half an engine or quarter of an engine. So convert to int.\n",
    "df['number.of.engines'] = df['number.of.engines'].apply(lambda x: int(x))"
   ]
  },
  {
   "cell_type": "code",
   "execution_count": 1002,
   "metadata": {},
   "outputs": [
    {
     "data": {
      "text/plain": [
       "42925"
      ]
     },
     "execution_count": 1002,
     "metadata": {},
     "output_type": "execute_result"
    }
   ],
   "source": [
    "len(df)"
   ]
  },
  {
   "cell_type": "code",
   "execution_count": 1003,
   "metadata": {},
   "outputs": [
    {
     "data": {
      "text/plain": [
       "Reciprocating    41195\n",
       "Turbo Prop         677\n",
       "Turbo Fan           59\n",
       "Turbo Jet           13\n",
       "Unknown             11\n",
       "Turbo Shaft          6\n",
       "UNK                  1\n",
       "Name: engine.type, dtype: int64"
      ]
     },
     "execution_count": 1003,
     "metadata": {},
     "output_type": "execute_result"
    }
   ],
   "source": [
    "#Missing value of categorical data is low so fill in missing with mode.\n",
    "df['engine.type'].value_counts()"
   ]
  },
  {
   "cell_type": "code",
   "execution_count": 1004,
   "metadata": {},
   "outputs": [],
   "source": [
    "df['engine.type'] = df['engine.type'].fillna('Reciprocating')"
   ]
  },
  {
   "cell_type": "code",
   "execution_count": 1005,
   "metadata": {},
   "outputs": [],
   "source": [
    "df['engine.type'] = df['engine.type'].apply(lambda x: 'Reciprocating' if x == 'Unknown' or x == 'UNK' else x)"
   ]
  },
  {
   "cell_type": "code",
   "execution_count": 1006,
   "metadata": {},
   "outputs": [],
   "source": [
    "df = df[df['engine.type']=='Reciprocating']"
   ]
  },
  {
   "cell_type": "code",
   "execution_count": 1007,
   "metadata": {},
   "outputs": [],
   "source": [
    "#We can drop the engine type category now because all the planes are reciprocating engines. \n",
    "df.drop(columns='engine.type',inplace=True)"
   ]
  },
  {
   "cell_type": "code",
   "execution_count": 1008,
   "metadata": {},
   "outputs": [
    {
     "data": {
      "text/plain": [
       "42170"
      ]
     },
     "execution_count": 1008,
     "metadata": {},
     "output_type": "execute_result"
    }
   ],
   "source": [
    "len(df)"
   ]
  },
  {
   "cell_type": "code",
   "execution_count": 1009,
   "metadata": {},
   "outputs": [],
   "source": [
    "#Handle the missing values in the injury columns for our dataset so we can reduce the number of passengers to six\n",
    "#to help further narrow down our dataset for small airplanes."
   ]
  },
  {
   "cell_type": "code",
   "execution_count": 1010,
   "metadata": {},
   "outputs": [
    {
     "data": {
      "text/plain": [
       "median    0.000000\n",
       "mean      0.375024\n",
       "Name: total.fatal.injuries, dtype: float64"
      ]
     },
     "execution_count": 1010,
     "metadata": {},
     "output_type": "execute_result"
    }
   ],
   "source": [
    "#these are discrete values in the column so we will go with the median to fill in missing values. \n",
    "df['total.fatal.injuries'].agg(['median','mean'])"
   ]
  },
  {
   "cell_type": "code",
   "execution_count": 1011,
   "metadata": {},
   "outputs": [],
   "source": [
    "df['total.fatal.injuries'] = df['total.fatal.injuries'].fillna(0.0)"
   ]
  },
  {
   "cell_type": "code",
   "execution_count": 1012,
   "metadata": {},
   "outputs": [
    {
     "data": {
      "text/plain": [
       "median    0.000000\n",
       "mean      0.216917\n",
       "Name: total.serious.injuries, dtype: float64"
      ]
     },
     "execution_count": 1012,
     "metadata": {},
     "output_type": "execute_result"
    }
   ],
   "source": [
    "#these are discrete values in the column so we will go with the median to fill in missing values. \n",
    "df['total.serious.injuries'].agg(['median','mean'])"
   ]
  },
  {
   "cell_type": "code",
   "execution_count": 1013,
   "metadata": {},
   "outputs": [],
   "source": [
    "df['total.serious.injuries'] = df['total.serious.injuries'].fillna(0.0)"
   ]
  },
  {
   "cell_type": "code",
   "execution_count": 1014,
   "metadata": {},
   "outputs": [
    {
     "data": {
      "text/plain": [
       "median    0.000000\n",
       "mean      0.284056\n",
       "Name: total.minor.injuries, dtype: float64"
      ]
     },
     "execution_count": 1014,
     "metadata": {},
     "output_type": "execute_result"
    }
   ],
   "source": [
    "#these are discrete values in the column so we will go with the median to fill in missing values. \n",
    "df['total.minor.injuries'].agg(['median','mean'])"
   ]
  },
  {
   "cell_type": "code",
   "execution_count": 1015,
   "metadata": {},
   "outputs": [],
   "source": [
    "df['total.minor.injuries'] = df['total.minor.injuries'].fillna(0.0)"
   ]
  },
  {
   "cell_type": "code",
   "execution_count": 1016,
   "metadata": {},
   "outputs": [
    {
     "data": {
      "text/plain": [
       "median    1.00000\n",
       "mean      1.25623\n",
       "Name: total.uninjured, dtype: float64"
      ]
     },
     "execution_count": 1016,
     "metadata": {},
     "output_type": "execute_result"
    }
   ],
   "source": [
    "#these are discrete values in the column so we will go with the median to fill in missing values. \n",
    "df['total.uninjured'].agg(['median','mean'])"
   ]
  },
  {
   "cell_type": "code",
   "execution_count": 1017,
   "metadata": {},
   "outputs": [],
   "source": [
    "df['total.uninjured'] = df['total.uninjured'].fillna(1.0)"
   ]
  },
  {
   "cell_type": "code",
   "execution_count": 1018,
   "metadata": {},
   "outputs": [],
   "source": [
    "df['total.passengers'] = df.apply(lambda x: x['total.fatal.injuries'] + x['total.serious.injuries'] + \n",
    "                                  x['total.minor.injuries'] + x['total.uninjured'],axis=1)"
   ]
  },
  {
   "cell_type": "code",
   "execution_count": 1019,
   "metadata": {},
   "outputs": [],
   "source": [
    "df = df[df['total.passengers']<=6]"
   ]
  },
  {
   "cell_type": "code",
   "execution_count": 1020,
   "metadata": {},
   "outputs": [
    {
     "data": {
      "text/plain": [
       "41947"
      ]
     },
     "execution_count": 1020,
     "metadata": {},
     "output_type": "execute_result"
    }
   ],
   "source": [
    "len(df)"
   ]
  },
  {
   "cell_type": "code",
   "execution_count": 1021,
   "metadata": {},
   "outputs": [],
   "source": [
    "#People are not continuous values/floats. They are whole numbers as we are not recording half of a person. Will change\n",
    "#all of these to ints.\n",
    "def whole_people(col_lst):\n",
    "    for col in col_lst:\n",
    "        df[col] = df[col].apply(lambda x: int(x))"
   ]
  },
  {
   "cell_type": "code",
   "execution_count": 1022,
   "metadata": {},
   "outputs": [],
   "source": [
    "whole_people(['total.fatal.injuries','total.serious.injuries','total.uninjured','total.minor.injuries',\n",
    "             'total.passengers'])"
   ]
  },
  {
   "cell_type": "markdown",
   "metadata": {},
   "source": [
    "### Remaining missing/null values"
   ]
  },
  {
   "cell_type": "code",
   "execution_count": 1023,
   "metadata": {},
   "outputs": [],
   "source": [
    "#Now we can handle the the missing/null values for aircraft damage to complete our dataset for small instructional \n",
    "#airplanes"
   ]
  },
  {
   "cell_type": "code",
   "execution_count": 1024,
   "metadata": {},
   "outputs": [
    {
     "name": "stdout",
     "output_type": "stream",
     "text": [
      "<class 'pandas.core.frame.DataFrame'>\n",
      "Int64Index: 41947 entries, 2 to 90345\n",
      "Data columns (total 9 columns):\n",
      " #   Column                  Non-Null Count  Dtype \n",
      "---  ------                  --------------  ----- \n",
      " 0   aircraft.damage         41753 non-null  object\n",
      " 1   make                    41947 non-null  object\n",
      " 2   model                   41947 non-null  object\n",
      " 3   number.of.engines       41947 non-null  int64 \n",
      " 4   total.fatal.injuries    41947 non-null  int64 \n",
      " 5   total.serious.injuries  41947 non-null  int64 \n",
      " 6   total.minor.injuries    41947 non-null  int64 \n",
      " 7   total.uninjured         41947 non-null  int64 \n",
      " 8   total.passengers        41947 non-null  int64 \n",
      "dtypes: int64(6), object(3)\n",
      "memory usage: 3.2+ MB\n"
     ]
    }
   ],
   "source": [
    "df.info()"
   ]
  },
  {
   "cell_type": "code",
   "execution_count": 1025,
   "metadata": {},
   "outputs": [
    {
     "data": {
      "text/plain": [
       "194"
      ]
     },
     "execution_count": 1025,
     "metadata": {},
     "output_type": "execute_result"
    }
   ],
   "source": [
    "df['aircraft.damage'].isna().sum()"
   ]
  },
  {
   "cell_type": "code",
   "execution_count": 1026,
   "metadata": {},
   "outputs": [
    {
     "data": {
      "text/plain": [
       "Substantial    33338\n",
       "Destroyed       7900\n",
       "Minor            487\n",
       "Unknown           28\n",
       "Name: aircraft.damage, dtype: int64"
      ]
     },
     "execution_count": 1026,
     "metadata": {},
     "output_type": "execute_result"
    }
   ],
   "source": [
    "df['aircraft.damage'].value_counts()"
   ]
  },
  {
   "cell_type": "code",
   "execution_count": 1027,
   "metadata": {},
   "outputs": [],
   "source": [
    "#Missing value of categorical data is low so fill in missing with mode.\n",
    "df['aircraft.damage'] = df['aircraft.damage'].fillna('Substantial')"
   ]
  },
  {
   "cell_type": "code",
   "execution_count": 1028,
   "metadata": {},
   "outputs": [],
   "source": [
    "df['aircraft.damage'] = df['aircraft.damage'].apply(lambda x: 'Substantial' if x == 'Unknown' else x)"
   ]
  },
  {
   "cell_type": "code",
   "execution_count": null,
   "metadata": {},
   "outputs": [],
   "source": []
  },
  {
   "cell_type": "markdown",
   "metadata": {},
   "source": [
    "### Consolidate our dataset to the most highly represented makes/models for analysis"
   ]
  },
  {
   "cell_type": "code",
   "execution_count": 1029,
   "metadata": {},
   "outputs": [],
   "source": [
    "#We do not need to be looking at all the makes/models of our dataset for the analysis/recommendations. We know there\n",
    "#are limitations of the dataset and all we can show is what is highly representative and give next steps/suggestions.\n",
    "#We dont want to deal with small number of accidents for makes and models because we dont know about availability,\n",
    "#cost, total flights/mileage which all play a factor into safety. So we will show what the data highly represents."
   ]
  },
  {
   "cell_type": "code",
   "execution_count": 1030,
   "metadata": {},
   "outputs": [],
   "source": [
    "#We will take the top four makes as these account for 39,313 rows still and are 94% of our small instructional aircraft\n",
    "#data. "
   ]
  },
  {
   "cell_type": "code",
   "execution_count": 1031,
   "metadata": {},
   "outputs": [],
   "source": [
    "top_makes = ['cessna','piper','beech','mooney']"
   ]
  },
  {
   "cell_type": "code",
   "execution_count": 1032,
   "metadata": {},
   "outputs": [],
   "source": [
    "df_top_makes = df[df['make'].isin(top_makes)]"
   ]
  },
  {
   "cell_type": "code",
   "execution_count": 1033,
   "metadata": {},
   "outputs": [
    {
     "data": {
      "text/html": [
       "<div>\n",
       "<style scoped>\n",
       "    .dataframe tbody tr th:only-of-type {\n",
       "        vertical-align: middle;\n",
       "    }\n",
       "\n",
       "    .dataframe tbody tr th {\n",
       "        vertical-align: top;\n",
       "    }\n",
       "\n",
       "    .dataframe thead th {\n",
       "        text-align: right;\n",
       "    }\n",
       "</style>\n",
       "<table border=\"1\" class=\"dataframe\">\n",
       "  <thead>\n",
       "    <tr style=\"text-align: right;\">\n",
       "      <th></th>\n",
       "      <th>aircraft.damage</th>\n",
       "      <th>make</th>\n",
       "      <th>model</th>\n",
       "      <th>number.of.engines</th>\n",
       "      <th>total.fatal.injuries</th>\n",
       "      <th>total.serious.injuries</th>\n",
       "      <th>total.minor.injuries</th>\n",
       "      <th>total.uninjured</th>\n",
       "      <th>total.passengers</th>\n",
       "    </tr>\n",
       "  </thead>\n",
       "  <tbody>\n",
       "    <tr>\n",
       "      <th>2</th>\n",
       "      <td>Destroyed</td>\n",
       "      <td>cessna</td>\n",
       "      <td>172M</td>\n",
       "      <td>1</td>\n",
       "      <td>3</td>\n",
       "      <td>0</td>\n",
       "      <td>0</td>\n",
       "      <td>1</td>\n",
       "      <td>4</td>\n",
       "    </tr>\n",
       "    <tr>\n",
       "      <th>6</th>\n",
       "      <td>Destroyed</td>\n",
       "      <td>cessna</td>\n",
       "      <td>180</td>\n",
       "      <td>1</td>\n",
       "      <td>4</td>\n",
       "      <td>0</td>\n",
       "      <td>0</td>\n",
       "      <td>0</td>\n",
       "      <td>4</td>\n",
       "    </tr>\n",
       "    <tr>\n",
       "      <th>7</th>\n",
       "      <td>Substantial</td>\n",
       "      <td>cessna</td>\n",
       "      <td>140</td>\n",
       "      <td>1</td>\n",
       "      <td>0</td>\n",
       "      <td>0</td>\n",
       "      <td>0</td>\n",
       "      <td>2</td>\n",
       "      <td>2</td>\n",
       "    </tr>\n",
       "    <tr>\n",
       "      <th>10</th>\n",
       "      <td>Substantial</td>\n",
       "      <td>piper</td>\n",
       "      <td>PA-28-161</td>\n",
       "      <td>1</td>\n",
       "      <td>0</td>\n",
       "      <td>0</td>\n",
       "      <td>0</td>\n",
       "      <td>1</td>\n",
       "      <td>1</td>\n",
       "    </tr>\n",
       "    <tr>\n",
       "      <th>11</th>\n",
       "      <td>Substantial</td>\n",
       "      <td>beech</td>\n",
       "      <td>V35B</td>\n",
       "      <td>1</td>\n",
       "      <td>0</td>\n",
       "      <td>0</td>\n",
       "      <td>0</td>\n",
       "      <td>1</td>\n",
       "      <td>1</td>\n",
       "    </tr>\n",
       "    <tr>\n",
       "      <th>...</th>\n",
       "      <td>...</td>\n",
       "      <td>...</td>\n",
       "      <td>...</td>\n",
       "      <td>...</td>\n",
       "      <td>...</td>\n",
       "      <td>...</td>\n",
       "      <td>...</td>\n",
       "      <td>...</td>\n",
       "      <td>...</td>\n",
       "    </tr>\n",
       "    <tr>\n",
       "      <th>90316</th>\n",
       "      <td>Substantial</td>\n",
       "      <td>beech</td>\n",
       "      <td>A36</td>\n",
       "      <td>1</td>\n",
       "      <td>0</td>\n",
       "      <td>0</td>\n",
       "      <td>0</td>\n",
       "      <td>2</td>\n",
       "      <td>2</td>\n",
       "    </tr>\n",
       "    <tr>\n",
       "      <th>90317</th>\n",
       "      <td>Substantial</td>\n",
       "      <td>piper</td>\n",
       "      <td>PA-44</td>\n",
       "      <td>2</td>\n",
       "      <td>0</td>\n",
       "      <td>1</td>\n",
       "      <td>0</td>\n",
       "      <td>0</td>\n",
       "      <td>1</td>\n",
       "    </tr>\n",
       "    <tr>\n",
       "      <th>90320</th>\n",
       "      <td>Substantial</td>\n",
       "      <td>cessna</td>\n",
       "      <td>305A</td>\n",
       "      <td>1</td>\n",
       "      <td>0</td>\n",
       "      <td>0</td>\n",
       "      <td>0</td>\n",
       "      <td>2</td>\n",
       "      <td>2</td>\n",
       "    </tr>\n",
       "    <tr>\n",
       "      <th>90324</th>\n",
       "      <td>Substantial</td>\n",
       "      <td>cessna</td>\n",
       "      <td>172</td>\n",
       "      <td>1</td>\n",
       "      <td>0</td>\n",
       "      <td>0</td>\n",
       "      <td>0</td>\n",
       "      <td>1</td>\n",
       "      <td>1</td>\n",
       "    </tr>\n",
       "    <tr>\n",
       "      <th>90336</th>\n",
       "      <td>Substantial</td>\n",
       "      <td>cessna</td>\n",
       "      <td>R172K</td>\n",
       "      <td>1</td>\n",
       "      <td>0</td>\n",
       "      <td>1</td>\n",
       "      <td>0</td>\n",
       "      <td>0</td>\n",
       "      <td>1</td>\n",
       "    </tr>\n",
       "  </tbody>\n",
       "</table>\n",
       "<p>39313 rows × 9 columns</p>\n",
       "</div>"
      ],
      "text/plain": [
       "      aircraft.damage    make      model  number.of.engines  \\\n",
       "2           Destroyed  cessna       172M                  1   \n",
       "6           Destroyed  cessna        180                  1   \n",
       "7         Substantial  cessna        140                  1   \n",
       "10        Substantial   piper  PA-28-161                  1   \n",
       "11        Substantial   beech       V35B                  1   \n",
       "...               ...     ...        ...                ...   \n",
       "90316     Substantial   beech        A36                  1   \n",
       "90317     Substantial   piper      PA-44                  2   \n",
       "90320     Substantial  cessna       305A                  1   \n",
       "90324     Substantial  cessna        172                  1   \n",
       "90336     Substantial  cessna      R172K                  1   \n",
       "\n",
       "       total.fatal.injuries  total.serious.injuries  total.minor.injuries  \\\n",
       "2                         3                       0                     0   \n",
       "6                         4                       0                     0   \n",
       "7                         0                       0                     0   \n",
       "10                        0                       0                     0   \n",
       "11                        0                       0                     0   \n",
       "...                     ...                     ...                   ...   \n",
       "90316                     0                       0                     0   \n",
       "90317                     0                       1                     0   \n",
       "90320                     0                       0                     0   \n",
       "90324                     0                       0                     0   \n",
       "90336                     0                       1                     0   \n",
       "\n",
       "       total.uninjured  total.passengers  \n",
       "2                    1                 4  \n",
       "6                    0                 4  \n",
       "7                    2                 2  \n",
       "10                   1                 1  \n",
       "11                   1                 1  \n",
       "...                ...               ...  \n",
       "90316                2                 2  \n",
       "90317                0                 1  \n",
       "90320                2                 2  \n",
       "90324                1                 1  \n",
       "90336                0                 1  \n",
       "\n",
       "[39313 rows x 9 columns]"
      ]
     },
     "execution_count": 1033,
     "metadata": {},
     "output_type": "execute_result"
    }
   ],
   "source": [
    "df_top_makes"
   ]
  },
  {
   "cell_type": "code",
   "execution_count": 1034,
   "metadata": {},
   "outputs": [],
   "source": [
    "#Now we need to consolidate the models as a lot of them are the same model except for very minor details \n",
    "#and for the sake of the analysis we will be grouping them together into their larger model type. \n",
    "#We will pair the models with their makes and create individual dataframes so then we can make changes without \n",
    "#affecting other makes and models numbers as some have the same numbers. Then we will concat all the dfs together. \n",
    "#Then we can see the top models for each of the top makes and further reduce our dataset before we analyze \n",
    "#our features with our risk factors. \n",
    "#Example, Cessna 170, 170N, 170A, 170R are all Cessna 170s."
   ]
  },
  {
   "cell_type": "code",
   "execution_count": 1035,
   "metadata": {},
   "outputs": [],
   "source": [
    "#We are writing a function that will take in the dataframe for a make and a list of what we want to convert the model\n",
    "#to and this will consolidate our models for us. We also have two lambda functions that will get ride of special\n",
    "#characters and spaces so it is just alphanumeric. This will make it easier to sort through the model types. \n",
    "import re\n",
    "df_top_makes['model']=df_top_makes['model'].apply(lambda x: re.sub(r'[^\\w\\s]','', x))\n",
    "\n",
    "df_top_makes['model'] = df_top_makes['model'].apply(lambda x: x.replace(' ',''))\n",
    "\n",
    "def model_consolidation(df_x, mod_lst):\n",
    "    for mod in mod_lst:\n",
    "        df_x['model'] = df_x['model'].apply(lambda x: mod if mod in x else x)"
   ]
  },
  {
   "cell_type": "code",
   "execution_count": 1036,
   "metadata": {},
   "outputs": [],
   "source": [
    "df_cessna = df_top_makes[df_top_makes['make']=='cessna']"
   ]
  },
  {
   "cell_type": "code",
   "execution_count": 1038,
   "metadata": {},
   "outputs": [],
   "source": [
    "cessna_list = ['172','150','182','152','210','180']"
   ]
  },
  {
   "cell_type": "code",
   "execution_count": 1039,
   "metadata": {},
   "outputs": [],
   "source": [
    "model_consolidation(df_cessna, cessna_list)"
   ]
  },
  {
   "cell_type": "code",
   "execution_count": 1040,
   "metadata": {},
   "outputs": [],
   "source": [
    "df_cessna = df_cessna[df_cessna['model'].isin(cessna_list)]"
   ]
  },
  {
   "cell_type": "code",
   "execution_count": 1041,
   "metadata": {},
   "outputs": [],
   "source": [
    "#Want to add identifiers at beggining so no model numbers get mixed up between different makes when we concat the \n",
    "#dataframes.\n",
    "df_cessna['model'] = df_cessna['model'].apply(lambda x: 'C' + x)"
   ]
  },
  {
   "cell_type": "code",
   "execution_count": 1042,
   "metadata": {},
   "outputs": [
    {
     "name": "stdout",
     "output_type": "stream",
     "text": [
      "12484\n"
     ]
    }
   ],
   "source": [
    "df_piper = df_top_makes[df_top_makes['make']=='piper']\n"
   ]
  },
  {
   "cell_type": "code",
   "execution_count": 1043,
   "metadata": {},
   "outputs": [],
   "source": [
    "piper_list = ['PA28','PA18','PA32','PA22','PA24','PA38']"
   ]
  },
  {
   "cell_type": "code",
   "execution_count": 1044,
   "metadata": {},
   "outputs": [],
   "source": [
    "model_consolidation(df_piper, piper_list)"
   ]
  },
  {
   "cell_type": "code",
   "execution_count": 1045,
   "metadata": {},
   "outputs": [],
   "source": [
    "df_piper = df_piper[df_piper['model'].isin(piper_list)]"
   ]
  },
  {
   "cell_type": "code",
   "execution_count": 1048,
   "metadata": {},
   "outputs": [],
   "source": [
    "beech_list = ['35','36','23','58','95']"
   ]
  },
  {
   "cell_type": "code",
   "execution_count": 1049,
   "metadata": {},
   "outputs": [],
   "source": [
    "model_consolidation(df_beech, beech_list)"
   ]
  },
  {
   "cell_type": "code",
   "execution_count": 1050,
   "metadata": {},
   "outputs": [],
   "source": [
    "df_beech = df_beech[df_beech['model'].isin(beech_list)]"
   ]
  },
  {
   "cell_type": "code",
   "execution_count": 1052,
   "metadata": {},
   "outputs": [],
   "source": [
    "df_beech['model'] = df_beech['model'].apply(lambda x: 'Be' + x)"
   ]
  },
  {
   "cell_type": "code",
   "execution_count": 1053,
   "metadata": {},
   "outputs": [
    {
     "name": "stdout",
     "output_type": "stream",
     "text": [
      "1080\n"
     ]
    }
   ],
   "source": [
    "df_mooney = df_top_makes[df_top_makes['make']=='mooney']\n"
   ]
  },
  {
   "cell_type": "code",
   "execution_count": 1055,
   "metadata": {},
   "outputs": [],
   "source": [
    "#only 3 for the model 10 which we will not need for our analysis so we will only focus on the M20 for Mooney.\n",
    "mooney_list = ['20']"
   ]
  },
  {
   "cell_type": "code",
   "execution_count": 1056,
   "metadata": {},
   "outputs": [],
   "source": [
    "model_consolidation(df_mooney, mooney_list)"
   ]
  },
  {
   "cell_type": "code",
   "execution_count": 1059,
   "metadata": {},
   "outputs": [],
   "source": [
    "df_mooney = df_mooney[df_mooney['model']=='20']"
   ]
  },
  {
   "cell_type": "code",
   "execution_count": 1062,
   "metadata": {},
   "outputs": [],
   "source": [
    "df_mooney['model'] = df_mooney['model'].apply(lambda x: 'M' + str(x))"
   ]
  },
  {
   "cell_type": "markdown",
   "metadata": {},
   "source": [
    "##### Bring the top make/model dataframes together"
   ]
  },
  {
   "cell_type": "code",
   "execution_count": 943,
   "metadata": {},
   "outputs": [],
   "source": [
    "top_make_model = pd.concat([df_cessna,df_piper,df_beech,df_mooney])"
   ]
  },
  {
   "cell_type": "code",
   "execution_count": 944,
   "metadata": {
    "scrolled": true
   },
   "outputs": [
    {
     "data": {
      "text/html": [
       "<div>\n",
       "<style scoped>\n",
       "    .dataframe tbody tr th:only-of-type {\n",
       "        vertical-align: middle;\n",
       "    }\n",
       "\n",
       "    .dataframe tbody tr th {\n",
       "        vertical-align: top;\n",
       "    }\n",
       "\n",
       "    .dataframe thead th {\n",
       "        text-align: right;\n",
       "    }\n",
       "</style>\n",
       "<table border=\"1\" class=\"dataframe\">\n",
       "  <thead>\n",
       "    <tr style=\"text-align: right;\">\n",
       "      <th></th>\n",
       "      <th>aircraft.damage</th>\n",
       "      <th>make</th>\n",
       "      <th>model</th>\n",
       "      <th>number.of.engines</th>\n",
       "      <th>total.fatal.injuries</th>\n",
       "      <th>total.serious.injuries</th>\n",
       "      <th>total.minor.injuries</th>\n",
       "      <th>total.uninjured</th>\n",
       "      <th>total.passengers</th>\n",
       "    </tr>\n",
       "  </thead>\n",
       "  <tbody>\n",
       "    <tr>\n",
       "      <th>2</th>\n",
       "      <td>Destroyed</td>\n",
       "      <td>cessna</td>\n",
       "      <td>C172</td>\n",
       "      <td>1</td>\n",
       "      <td>3</td>\n",
       "      <td>0</td>\n",
       "      <td>0</td>\n",
       "      <td>1</td>\n",
       "      <td>4</td>\n",
       "    </tr>\n",
       "    <tr>\n",
       "      <th>6</th>\n",
       "      <td>Destroyed</td>\n",
       "      <td>cessna</td>\n",
       "      <td>C180</td>\n",
       "      <td>1</td>\n",
       "      <td>4</td>\n",
       "      <td>0</td>\n",
       "      <td>0</td>\n",
       "      <td>0</td>\n",
       "      <td>4</td>\n",
       "    </tr>\n",
       "    <tr>\n",
       "      <th>13</th>\n",
       "      <td>Destroyed</td>\n",
       "      <td>cessna</td>\n",
       "      <td>C172</td>\n",
       "      <td>1</td>\n",
       "      <td>1</td>\n",
       "      <td>0</td>\n",
       "      <td>0</td>\n",
       "      <td>0</td>\n",
       "      <td>1</td>\n",
       "    </tr>\n",
       "    <tr>\n",
       "      <th>17</th>\n",
       "      <td>Destroyed</td>\n",
       "      <td>cessna</td>\n",
       "      <td>C180</td>\n",
       "      <td>1</td>\n",
       "      <td>3</td>\n",
       "      <td>0</td>\n",
       "      <td>0</td>\n",
       "      <td>0</td>\n",
       "      <td>3</td>\n",
       "    </tr>\n",
       "    <tr>\n",
       "      <th>18</th>\n",
       "      <td>Substantial</td>\n",
       "      <td>cessna</td>\n",
       "      <td>C172</td>\n",
       "      <td>1</td>\n",
       "      <td>0</td>\n",
       "      <td>0</td>\n",
       "      <td>0</td>\n",
       "      <td>1</td>\n",
       "      <td>1</td>\n",
       "    </tr>\n",
       "    <tr>\n",
       "      <th>...</th>\n",
       "      <td>...</td>\n",
       "      <td>...</td>\n",
       "      <td>...</td>\n",
       "      <td>...</td>\n",
       "      <td>...</td>\n",
       "      <td>...</td>\n",
       "      <td>...</td>\n",
       "      <td>...</td>\n",
       "      <td>...</td>\n",
       "    </tr>\n",
       "    <tr>\n",
       "      <th>89680</th>\n",
       "      <td>Substantial</td>\n",
       "      <td>mooney</td>\n",
       "      <td>Substantial</td>\n",
       "      <td>1</td>\n",
       "      <td>0</td>\n",
       "      <td>0</td>\n",
       "      <td>0</td>\n",
       "      <td>2</td>\n",
       "      <td>2</td>\n",
       "    </tr>\n",
       "    <tr>\n",
       "      <th>89825</th>\n",
       "      <td>Substantial</td>\n",
       "      <td>mooney</td>\n",
       "      <td>Substantial</td>\n",
       "      <td>1</td>\n",
       "      <td>0</td>\n",
       "      <td>0</td>\n",
       "      <td>0</td>\n",
       "      <td>1</td>\n",
       "      <td>1</td>\n",
       "    </tr>\n",
       "    <tr>\n",
       "      <th>90137</th>\n",
       "      <td>Substantial</td>\n",
       "      <td>mooney</td>\n",
       "      <td>Substantial</td>\n",
       "      <td>1</td>\n",
       "      <td>0</td>\n",
       "      <td>0</td>\n",
       "      <td>0</td>\n",
       "      <td>2</td>\n",
       "      <td>2</td>\n",
       "    </tr>\n",
       "    <tr>\n",
       "      <th>90286</th>\n",
       "      <td>Substantial</td>\n",
       "      <td>mooney</td>\n",
       "      <td>Substantial</td>\n",
       "      <td>1</td>\n",
       "      <td>0</td>\n",
       "      <td>0</td>\n",
       "      <td>2</td>\n",
       "      <td>0</td>\n",
       "      <td>2</td>\n",
       "    </tr>\n",
       "    <tr>\n",
       "      <th>90297</th>\n",
       "      <td>Substantial</td>\n",
       "      <td>mooney</td>\n",
       "      <td>Substantial</td>\n",
       "      <td>1</td>\n",
       "      <td>1</td>\n",
       "      <td>0</td>\n",
       "      <td>1</td>\n",
       "      <td>0</td>\n",
       "      <td>2</td>\n",
       "    </tr>\n",
       "  </tbody>\n",
       "</table>\n",
       "<p>30146 rows × 9 columns</p>\n",
       "</div>"
      ],
      "text/plain": [
       "      aircraft.damage    make        model  number.of.engines  \\\n",
       "2           Destroyed  cessna         C172                  1   \n",
       "6           Destroyed  cessna         C180                  1   \n",
       "13          Destroyed  cessna         C172                  1   \n",
       "17          Destroyed  cessna         C180                  1   \n",
       "18        Substantial  cessna         C172                  1   \n",
       "...               ...     ...          ...                ...   \n",
       "89680     Substantial  mooney  Substantial                  1   \n",
       "89825     Substantial  mooney  Substantial                  1   \n",
       "90137     Substantial  mooney  Substantial                  1   \n",
       "90286     Substantial  mooney  Substantial                  1   \n",
       "90297     Substantial  mooney  Substantial                  1   \n",
       "\n",
       "       total.fatal.injuries  total.serious.injuries  total.minor.injuries  \\\n",
       "2                         3                       0                     0   \n",
       "6                         4                       0                     0   \n",
       "13                        1                       0                     0   \n",
       "17                        3                       0                     0   \n",
       "18                        0                       0                     0   \n",
       "...                     ...                     ...                   ...   \n",
       "89680                     0                       0                     0   \n",
       "89825                     0                       0                     0   \n",
       "90137                     0                       0                     0   \n",
       "90286                     0                       0                     2   \n",
       "90297                     1                       0                     1   \n",
       "\n",
       "       total.uninjured  total.passengers  \n",
       "2                    1                 4  \n",
       "6                    0                 4  \n",
       "13                   0                 1  \n",
       "17                   0                 3  \n",
       "18                   1                 1  \n",
       "...                ...               ...  \n",
       "89680                2                 2  \n",
       "89825                1                 1  \n",
       "90137                2                 2  \n",
       "90286                0                 2  \n",
       "90297                0                 2  \n",
       "\n",
       "[30146 rows x 9 columns]"
      ]
     },
     "execution_count": 944,
     "metadata": {},
     "output_type": "execute_result"
    }
   ],
   "source": [
    "top_make_model"
   ]
  },
  {
   "cell_type": "code",
   "execution_count": 340,
   "metadata": {},
   "outputs": [],
   "source": [
    "#We are now down to 30,121 rows from our original dataset of 41,844 rows for small instructional aircrafts. This \n",
    "#accounts for 72% of our dataset and helps narrow our scope so we are only looking at the most highly represented\n",
    "#makes and models. "
   ]
  },
  {
   "cell_type": "code",
   "execution_count": 341,
   "metadata": {},
   "outputs": [],
   "source": [
    "top_make_model.reset_index(inplace=True,drop=True)"
   ]
  },
  {
   "cell_type": "code",
   "execution_count": 342,
   "metadata": {},
   "outputs": [],
   "source": [
    "#Save this cleaned dataset so it can be used in tableau for further investigation/analysis.\n",
    "top_make_model.to_csv('./data/tableau_dataset.csv')"
   ]
  },
  {
   "cell_type": "code",
   "execution_count": null,
   "metadata": {},
   "outputs": [],
   "source": []
  },
  {
   "cell_type": "code",
   "execution_count": 343,
   "metadata": {},
   "outputs": [],
   "source": [
    "##We explored the data further in tableau and now we can start to make graphs to explore further and help build/\n",
    "#visualize our business recommendations."
   ]
  },
  {
   "cell_type": "code",
   "execution_count": 345,
   "metadata": {},
   "outputs": [],
   "source": [
    "#Just want to change the order of the column names to my liking. \n",
    "top_make_model = top_make_model[['aircraft.damage','make','model','number.of.engines',\n",
    "                                 'total.fatal.injuries','total.serious.injuries','total.minor.injuries',\n",
    "                                 'total.uninjured','total.passengers']]"
   ]
  },
  {
   "cell_type": "code",
   "execution_count": 346,
   "metadata": {
    "scrolled": true
   },
   "outputs": [
    {
     "data": {
      "text/html": [
       "<div>\n",
       "<style scoped>\n",
       "    .dataframe tbody tr th:only-of-type {\n",
       "        vertical-align: middle;\n",
       "    }\n",
       "\n",
       "    .dataframe tbody tr th {\n",
       "        vertical-align: top;\n",
       "    }\n",
       "\n",
       "    .dataframe thead th {\n",
       "        text-align: right;\n",
       "    }\n",
       "</style>\n",
       "<table border=\"1\" class=\"dataframe\">\n",
       "  <thead>\n",
       "    <tr style=\"text-align: right;\">\n",
       "      <th></th>\n",
       "      <th>aircraft.damage</th>\n",
       "      <th>make</th>\n",
       "      <th>model</th>\n",
       "      <th>number.of.engines</th>\n",
       "      <th>total.fatal.injuries</th>\n",
       "      <th>total.serious.injuries</th>\n",
       "      <th>total.minor.injuries</th>\n",
       "      <th>total.uninjured</th>\n",
       "      <th>total.passengers</th>\n",
       "    </tr>\n",
       "  </thead>\n",
       "  <tbody>\n",
       "    <tr>\n",
       "      <th>0</th>\n",
       "      <td>Destroyed</td>\n",
       "      <td>cessna</td>\n",
       "      <td>C172</td>\n",
       "      <td>1</td>\n",
       "      <td>3</td>\n",
       "      <td>0</td>\n",
       "      <td>0</td>\n",
       "      <td>1</td>\n",
       "      <td>4</td>\n",
       "    </tr>\n",
       "    <tr>\n",
       "      <th>1</th>\n",
       "      <td>Destroyed</td>\n",
       "      <td>cessna</td>\n",
       "      <td>C180</td>\n",
       "      <td>1</td>\n",
       "      <td>4</td>\n",
       "      <td>0</td>\n",
       "      <td>0</td>\n",
       "      <td>0</td>\n",
       "      <td>4</td>\n",
       "    </tr>\n",
       "    <tr>\n",
       "      <th>2</th>\n",
       "      <td>Destroyed</td>\n",
       "      <td>cessna</td>\n",
       "      <td>C172</td>\n",
       "      <td>1</td>\n",
       "      <td>1</td>\n",
       "      <td>0</td>\n",
       "      <td>0</td>\n",
       "      <td>0</td>\n",
       "      <td>1</td>\n",
       "    </tr>\n",
       "    <tr>\n",
       "      <th>3</th>\n",
       "      <td>Destroyed</td>\n",
       "      <td>cessna</td>\n",
       "      <td>C180</td>\n",
       "      <td>1</td>\n",
       "      <td>3</td>\n",
       "      <td>0</td>\n",
       "      <td>0</td>\n",
       "      <td>0</td>\n",
       "      <td>3</td>\n",
       "    </tr>\n",
       "    <tr>\n",
       "      <th>4</th>\n",
       "      <td>Substantial</td>\n",
       "      <td>cessna</td>\n",
       "      <td>C172</td>\n",
       "      <td>1</td>\n",
       "      <td>0</td>\n",
       "      <td>0</td>\n",
       "      <td>0</td>\n",
       "      <td>1</td>\n",
       "      <td>1</td>\n",
       "    </tr>\n",
       "    <tr>\n",
       "      <th>...</th>\n",
       "      <td>...</td>\n",
       "      <td>...</td>\n",
       "      <td>...</td>\n",
       "      <td>...</td>\n",
       "      <td>...</td>\n",
       "      <td>...</td>\n",
       "      <td>...</td>\n",
       "      <td>...</td>\n",
       "      <td>...</td>\n",
       "    </tr>\n",
       "    <tr>\n",
       "      <th>30138</th>\n",
       "      <td>Substantial</td>\n",
       "      <td>mooney</td>\n",
       "      <td>M20</td>\n",
       "      <td>1</td>\n",
       "      <td>0</td>\n",
       "      <td>0</td>\n",
       "      <td>0</td>\n",
       "      <td>2</td>\n",
       "      <td>2</td>\n",
       "    </tr>\n",
       "    <tr>\n",
       "      <th>30139</th>\n",
       "      <td>Substantial</td>\n",
       "      <td>mooney</td>\n",
       "      <td>M20</td>\n",
       "      <td>1</td>\n",
       "      <td>0</td>\n",
       "      <td>0</td>\n",
       "      <td>0</td>\n",
       "      <td>1</td>\n",
       "      <td>1</td>\n",
       "    </tr>\n",
       "    <tr>\n",
       "      <th>30140</th>\n",
       "      <td>Substantial</td>\n",
       "      <td>mooney</td>\n",
       "      <td>M20</td>\n",
       "      <td>1</td>\n",
       "      <td>0</td>\n",
       "      <td>0</td>\n",
       "      <td>0</td>\n",
       "      <td>2</td>\n",
       "      <td>2</td>\n",
       "    </tr>\n",
       "    <tr>\n",
       "      <th>30141</th>\n",
       "      <td>Substantial</td>\n",
       "      <td>mooney</td>\n",
       "      <td>M20</td>\n",
       "      <td>1</td>\n",
       "      <td>0</td>\n",
       "      <td>0</td>\n",
       "      <td>2</td>\n",
       "      <td>0</td>\n",
       "      <td>2</td>\n",
       "    </tr>\n",
       "    <tr>\n",
       "      <th>30142</th>\n",
       "      <td>Substantial</td>\n",
       "      <td>mooney</td>\n",
       "      <td>M20</td>\n",
       "      <td>1</td>\n",
       "      <td>1</td>\n",
       "      <td>0</td>\n",
       "      <td>1</td>\n",
       "      <td>0</td>\n",
       "      <td>2</td>\n",
       "    </tr>\n",
       "  </tbody>\n",
       "</table>\n",
       "<p>30143 rows × 9 columns</p>\n",
       "</div>"
      ],
      "text/plain": [
       "      aircraft.damage    make model  number.of.engines  total.fatal.injuries  \\\n",
       "0           Destroyed  cessna  C172                  1                     3   \n",
       "1           Destroyed  cessna  C180                  1                     4   \n",
       "2           Destroyed  cessna  C172                  1                     1   \n",
       "3           Destroyed  cessna  C180                  1                     3   \n",
       "4         Substantial  cessna  C172                  1                     0   \n",
       "...               ...     ...   ...                ...                   ...   \n",
       "30138     Substantial  mooney   M20                  1                     0   \n",
       "30139     Substantial  mooney   M20                  1                     0   \n",
       "30140     Substantial  mooney   M20                  1                     0   \n",
       "30141     Substantial  mooney   M20                  1                     0   \n",
       "30142     Substantial  mooney   M20                  1                     1   \n",
       "\n",
       "       total.serious.injuries  total.minor.injuries  total.uninjured  \\\n",
       "0                           0                     0                1   \n",
       "1                           0                     0                0   \n",
       "2                           0                     0                0   \n",
       "3                           0                     0                0   \n",
       "4                           0                     0                1   \n",
       "...                       ...                   ...              ...   \n",
       "30138                       0                     0                2   \n",
       "30139                       0                     0                1   \n",
       "30140                       0                     0                2   \n",
       "30141                       0                     2                0   \n",
       "30142                       0                     1                0   \n",
       "\n",
       "       total.passengers  \n",
       "0                     4  \n",
       "1                     4  \n",
       "2                     1  \n",
       "3                     3  \n",
       "4                     1  \n",
       "...                 ...  \n",
       "30138                 2  \n",
       "30139                 1  \n",
       "30140                 2  \n",
       "30141                 2  \n",
       "30142                 2  \n",
       "\n",
       "[30143 rows x 9 columns]"
      ]
     },
     "execution_count": 346,
     "metadata": {},
     "output_type": "execute_result"
    }
   ],
   "source": [
    "top_make_model"
   ]
  },
  {
   "cell_type": "markdown",
   "metadata": {},
   "source": [
    "## Analysis"
   ]
  },
  {
   "cell_type": "code",
   "execution_count": 347,
   "metadata": {},
   "outputs": [],
   "source": [
    "###investigating make and number of uninjured. \n",
    "df_make_uninjured = top_make_model[(top_make_model['aircraft.damage']=='Substantial') | (top_make_model\n",
    "                    ['aircraft.damage']=='Destroyed')].groupby('make')[['total.uninjured']].sum()"
   ]
  },
  {
   "cell_type": "code",
   "execution_count": 348,
   "metadata": {},
   "outputs": [],
   "source": [
    "#Want to sort the value to see and for when we graph it\n",
    "df_make_uninjured = df_make_uninjured.sort_values(by='total.uninjured',ascending=False)"
   ]
  },
  {
   "cell_type": "code",
   "execution_count": 349,
   "metadata": {},
   "outputs": [],
   "source": [
    "#so the make index is a column now so it is simpler to graph. \n",
    "df_make_uninjured = df_make_uninjured.reset_index()"
   ]
  },
  {
   "cell_type": "code",
   "execution_count": 350,
   "metadata": {},
   "outputs": [],
   "source": [
    "#capitalize the makes so it looks better on the graph. \n",
    "df_make_uninjured['make'] = df_make_uninjured['make'].apply(lambda x: x.capitalize())"
   ]
  },
  {
   "cell_type": "code",
   "execution_count": 351,
   "metadata": {},
   "outputs": [
    {
     "data": {
      "image/png": "[encoded data removed]",
      "text/plain": [
       "<Figure size 1008x576 with 1 Axes>"
      ]
     },
     "metadata": {
      "needs_background": "light"
     },
     "output_type": "display_data"
    }
   ],
   "source": [
    "plt.figure(figsize=(14, 8))\n",
    "\n",
    "ax1 = sns.barplot(x=\"make\",  y='total.uninjured', data=df_make_uninjured, color='lightblue')\n",
    "\n",
    "\n",
    "# add legend\n",
    "bar = mpatches.Patch(color='lightblue', label='Sum of Uninjured Passengers')\n",
    "plt.legend(handles=[bar])\n",
    "\n",
    "for index, row in df_make_uninjured.iterrows():\n",
    "    ax1.text(row.name, row['total.uninjured'], row['total.uninjured'], color='black', ha=\"center\",\n",
    "             fontsize='x-large',va='bottom')\n",
    "\n",
    "# show the graph\n",
    "plt.title('Passengers Not Injured per Airplane Make',fontsize=20)\n",
    "plt.xlabel('Airplane Make',fontsize=15)\n",
    "plt.ylabel('Total Uninjured',fontsize=15)\n",
    "plt.tick_params(axis='x',labelsize=16)\n",
    "plt.show()\n",
    "\n",
    "\n",
    "#Used stackoverflow example to see how to do the labeling on the bar graph as well as the legend.\n",
    "#(https://stackoverflow.com/questions/43214978/how-to-display-custom-values-on-a-bar-plot)\n",
    "#(https://stackoverflow.com/questions/65272126/seaborn-how-to-add-legend-to-seaborn-barplot)"
   ]
  },
  {
   "cell_type": "code",
   "execution_count": null,
   "metadata": {},
   "outputs": [],
   "source": []
  },
  {
   "cell_type": "code",
   "execution_count": 352,
   "metadata": {},
   "outputs": [],
   "source": [
    "###investigating model with amount of fatalites and serious injuries"
   ]
  },
  {
   "cell_type": "code",
   "execution_count": 353,
   "metadata": {},
   "outputs": [],
   "source": [
    "df_model_severe = top_make_model[(top_make_model['aircraft.damage']=='Substantial') | (top_make_model\n",
    "                  ['aircraft.damage']=='Destroyed')].groupby('model')[['total.fatal.injuries',\n",
    "                  'total.serious.injuries']].sum()"
   ]
  },
  {
   "cell_type": "code",
   "execution_count": 354,
   "metadata": {},
   "outputs": [],
   "source": [
    "#Want to create new column that is a total of fatalities and serious injuries. Then will sort the dataframe by that.\n",
    "df_model_severe['severe.injuries'] = df_model_severe.apply(lambda x: x['total.fatal.injuries'] + \n",
    "                                                           x['total.serious.injuries'],axis=1)"
   ]
  },
  {
   "cell_type": "code",
   "execution_count": 355,
   "metadata": {},
   "outputs": [],
   "source": [
    "df_model_severe = df_model_severe[['severe.injuries']].sort_values(by='severe.injuries')"
   ]
  },
  {
   "cell_type": "code",
   "execution_count": 356,
   "metadata": {},
   "outputs": [],
   "source": [
    "df_model_severe = df_model_severe.reset_index()"
   ]
  },
  {
   "cell_type": "code",
   "execution_count": null,
   "metadata": {},
   "outputs": [],
   "source": []
  },
  {
   "cell_type": "code",
   "execution_count": 357,
   "metadata": {},
   "outputs": [
    {
     "data": {
      "image/png": "[encoded data removed]",
      "text/plain": [
       "<Figure size 1008x576 with 1 Axes>"
      ]
     },
     "metadata": {
      "needs_background": "light"
     },
     "output_type": "display_data"
    }
   ],
   "source": [
    "plt.figure(figsize=(14, 8))\n",
    "\n",
    "ax1 = sns.barplot(x=\"model\",  y='severe.injuries', data=df_model_severe, color='lightblue')\n",
    "\n",
    "\n",
    "# add legend\n",
    "bar = mpatches.Patch(color='lightblue', label='Sum of Severe and Fatal Injuries')\n",
    "plt.legend(handles=[bar])\n",
    "\n",
    "for index, row in df_model_severe.iterrows():\n",
    "    ax1.text(row.name, row['severe.injuries'], row['severe.injuries'], color='black', ha=\"center\",\n",
    "             fontsize='x-large',va='bottom')\n",
    "\n",
    "# show the graph\n",
    "\n",
    "plt.title('Passengers Severely and Fatally Injured per Airplane Model',fontsize=20)\n",
    "plt.xlabel('Airplane Model',fontsize=15)\n",
    "plt.ylabel('Total Severely or Fatally Injured',fontsize=15)\n",
    "plt.tick_params(axis='x',labelsize=16,rotation=45)\n",
    "plt.show()"
   ]
  },
  {
   "cell_type": "code",
   "execution_count": null,
   "metadata": {},
   "outputs": [],
   "source": []
  },
  {
   "cell_type": "code",
   "execution_count": 358,
   "metadata": {},
   "outputs": [],
   "source": [
    "###Look at number of engines by fatality\n",
    "df_engine = top_make_model.groupby('number.of.engines')[['total.fatal.injuries']].sum()"
   ]
  },
  {
   "cell_type": "code",
   "execution_count": 359,
   "metadata": {},
   "outputs": [],
   "source": [
    "df_engine = df_engine.reset_index()"
   ]
  },
  {
   "cell_type": "code",
   "execution_count": 360,
   "metadata": {},
   "outputs": [],
   "source": [
    "df_engine['number.of.engines'] = df_engine['number.of.engines'].apply(lambda x: str(x) + ' eng.')"
   ]
  },
  {
   "cell_type": "code",
   "execution_count": 361,
   "metadata": {},
   "outputs": [
    {
     "data": {
      "image/png": "[encoded data removed]",
      "text/plain": [
       "<Figure size 1008x432 with 1 Axes>"
      ]
     },
     "metadata": {
      "needs_background": "light"
     },
     "output_type": "display_data"
    }
   ],
   "source": [
    "plt.figure(figsize=(14, 6))\n",
    "\n",
    "ax1 = sns.barplot(x=\"total.fatal.injuries\",  y='number.of.engines', data=df_engine, color='lightblue')\n",
    "\n",
    "ax1.bar_label(ax1.containers[0],size=14)\n",
    "# show the graph\n",
    "\n",
    "plt.title('Fatalities per Number of Engines',fontsize=20)\n",
    "plt.xlabel('Fatalities',fontsize=15)\n",
    "plt.ylabel('Engine Number',fontsize=15)\n",
    "plt.tick_params(axis='y',labelsize=15)\n",
    "plt.show()\n",
    "\n",
    "#Another way to do bar label that i learned about on stackoverflow.\n",
    "#(https://stackoverflow.com/questions/49820549/labeling-horizontal-barplot-with-values-in-seaborn)"
   ]
  },
  {
   "cell_type": "markdown",
   "metadata": {},
   "source": [
    "## Conclusions"
   ]
  },
  {
   "cell_type": "code",
   "execution_count": null,
   "metadata": {},
   "outputs": [],
   "source": []
  },
  {
   "cell_type": "markdown",
   "metadata": {},
   "source": [
    "## Next Steps"
   ]
  },
  {
   "cell_type": "code",
   "execution_count": null,
   "metadata": {},
   "outputs": [],
   "source": []
  }
 ],
 "metadata": {
  "kernelspec": {
   "display_name": "Python 3",
   "language": "python",
   "name": "python3"
  },
  "language_info": {
   "codemirror_mode": {
    "name": "ipython",
    "version": 3
   },
   "file_extension": ".py",
   "mimetype": "text/x-python",
   "name": "python",
   "nbconvert_exporter": "python",
   "pygments_lexer": "ipython3",
   "version": "3.8.5"
  }
 },
 "nbformat": 4,
 "nbformat_minor": 4
}
